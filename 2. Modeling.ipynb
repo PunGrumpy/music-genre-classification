{
 "cells": [
  {
   "cell_type": "markdown",
   "metadata": {},
   "source": [
    "# 📚 Libraries\n"
   ]
  },
  {
   "cell_type": "code",
   "execution_count": 1,
   "metadata": {},
   "outputs": [],
   "source": [
    "import json\n",
    "import zenml\n",
    "import torch\n",
    "import spacy\n",
    "import transformers\n",
    "import pandas as pd\n",
    "import matplotlib.pyplot as plt\n",
    "\n",
    "from tqdm import tqdm\n",
    "from torch import nn, optim\n",
    "from zenml.environment import Environment\n",
    "from torch.utils.data import Dataset, DataLoader\n",
    "from sklearn.metrics import classification_report\n",
    "from transformers import AutoModel, AutoTokenizer, AutoConfig\n",
    "from huggingface_hub import notebook_login, PyTorchModelHubMixin"
   ]
  },
  {
   "cell_type": "markdown",
   "metadata": {},
   "source": [
    "# 🥼 Google Colab\n"
   ]
  },
  {
   "cell_type": "code",
   "execution_count": 2,
   "metadata": {},
   "outputs": [],
   "source": [
    "if Environment.in_google_colab():\n",
    "    print(f\"🥼 Running on Google Colab\")\n",
    "\n",
    "    from google.colab import drive\n",
    "\n",
    "    drive.mount(\"/content/drive\")\n",
    "\n",
    "    data_path = (\n",
    "        \"/content/drive/My Drive/Colab Notebooks/Natural Language Processing/Project\"\n",
    "    )\n",
    "else:\n",
    "    data_path = \"./\""
   ]
  },
  {
   "cell_type": "markdown",
   "metadata": {},
   "source": [
    "# 🧑‍💻 CUDA Specification\n"
   ]
  },
  {
   "cell_type": "code",
   "execution_count": 3,
   "metadata": {},
   "outputs": [],
   "source": [
    "from torch import cuda\n",
    "\n",
    "device = \"cuda\" if cuda.is_available() else \"cpu\""
   ]
  },
  {
   "cell_type": "markdown",
   "metadata": {},
   "source": [
    "# 🧘‍♂️ ZenML\n"
   ]
  },
  {
   "cell_type": "code",
   "execution_count": 4,
   "metadata": {},
   "outputs": [],
   "source": [
    "# !zenml init"
   ]
  },
  {
   "cell_type": "markdown",
   "metadata": {},
   "source": [
    "# 📚 Import Data\n"
   ]
  },
  {
   "cell_type": "code",
   "execution_count": 5,
   "metadata": {},
   "outputs": [],
   "source": [
    "df_train = pd.read_csv(f\"{data_path}/data/train_clean.csv.zip\")\n",
    "df_val = pd.read_csv(f\"{data_path}/data/val_clean.csv.zip\")\n",
    "df_test = pd.read_csv(f\"{data_path}/data/test_clean.csv.zip\")"
   ]
  },
  {
   "cell_type": "code",
   "execution_count": 6,
   "metadata": {},
   "outputs": [
    {
     "name": "stdout",
     "output_type": "stream",
     "text": [
      "🏃‍♂️ Train shape: (5000, 15)\n",
      "🏋️ Validation shape: (1020, 15)\n",
      "🧐 Test shape: (1134, 15)\n"
     ]
    }
   ],
   "source": [
    "print(f\"🏃‍♂️ Train shape: {df_train.shape}\")\n",
    "print(f\"🏋️ Validation shape: {df_val.shape}\")\n",
    "print(f\"🧐 Test shape: {df_test.shape}\")"
   ]
  },
  {
   "cell_type": "markdown",
   "metadata": {},
   "source": [
    "## 📖 Define the data\n"
   ]
  },
  {
   "cell_type": "code",
   "execution_count": 7,
   "metadata": {},
   "outputs": [],
   "source": [
    "MODEL_NAME = \"bert-base-uncased\"\n",
    "MODEL_TYPE = \"bert\"\n",
    "SPACY_MODEL = \"en_core_web_sm\""
   ]
  },
  {
   "cell_type": "code",
   "execution_count": 8,
   "metadata": {},
   "outputs": [],
   "source": [
    "GENRE_MAPPING = {\"edm\": 0, \"r&b\": 1, \"rap\": 2, \"rock\": 3, \"pop\": 4}"
   ]
  },
  {
   "cell_type": "code",
   "execution_count": 9,
   "metadata": {},
   "outputs": [],
   "source": [
    "AUDIO_FEATURES = [\n",
    "    \"acousticness\",\n",
    "    \"danceability\",\n",
    "    \"energy\",\n",
    "    \"instrumentalness\",\n",
    "    \"key\",\n",
    "    \"liveness\",\n",
    "    \"loudness\",\n",
    "    \"mode\",\n",
    "    \"speechiness\",\n",
    "    \"tempo\",\n",
    "    \"valence\",\n",
    "]"
   ]
  },
  {
   "cell_type": "code",
   "execution_count": 10,
   "metadata": {},
   "outputs": [],
   "source": [
    "MAX_LEN = 512\n",
    "TRAIN_BATCH_SIZE = 8\n",
    "VALID_BATCH_SIZE = 4\n",
    "EPOCHS = 5\n",
    "LEARNING_RATE = 2e-05"
   ]
  },
  {
   "cell_type": "markdown",
   "metadata": {},
   "source": [
    "# 🧩 Tokenizer\n"
   ]
  },
  {
   "cell_type": "code",
   "execution_count": 11,
   "metadata": {},
   "outputs": [],
   "source": [
    "tokenizer = AutoTokenizer.from_pretrained(MODEL_NAME)"
   ]
  },
  {
   "cell_type": "markdown",
   "metadata": {},
   "source": [
    "# 🧠 Preprocessing\n"
   ]
  },
  {
   "cell_type": "code",
   "execution_count": 12,
   "metadata": {},
   "outputs": [],
   "source": [
    "class LyricsAudioDataset(Dataset):\n",
    "    def __init__(self, dataframe, tokenizer, max_len):\n",
    "        self.tokenizer = tokenizer\n",
    "        self.data = dataframe\n",
    "        self.lyrics = dataframe.lyrics\n",
    "        self.audio = dataframe[AUDIO_FEATURES]\n",
    "        self.targets = self.data.playlist_genre.map(GENRE_MAPPING)\n",
    "        self.max_len = max_len\n",
    "\n",
    "        # Load Spacy model for text preprocessing\n",
    "        self.nlp = spacy.load(SPACY_MODEL, disable=[\"parser\", \"ner\"])\n",
    "\n",
    "    def __len__(self):\n",
    "        return len(self.lyrics)\n",
    "\n",
    "    def __getitem__(self, index):\n",
    "        lyrics = self._preprocess(str(self.lyrics[index]))\n",
    "\n",
    "        inputs = self.tokenizer.encode_plus(\n",
    "            lyrics,\n",
    "            None,\n",
    "            add_special_tokens=True,\n",
    "            max_length=self.max_len,\n",
    "            padding=\"max_length\",\n",
    "            return_token_type_ids=True,\n",
    "            truncation=True,\n",
    "        )\n",
    "\n",
    "        ids = inputs[\"input_ids\"]\n",
    "        mask = inputs[\"attention_mask\"]\n",
    "        token_type_ids = inputs[\"token_type_ids\"]\n",
    "\n",
    "        return {\n",
    "            \"input_ids\": torch.tensor(ids, dtype=torch.long),\n",
    "            \"attention_mask\": torch.tensor(mask, dtype=torch.long),\n",
    "            \"token_type_ids\": torch.tensor(token_type_ids, dtype=torch.long),\n",
    "            \"audio\": torch.tensor(self.audio.iloc[index].values, dtype=torch.float),\n",
    "            \"targets\": torch.tensor(self.targets[index], dtype=torch.long),\n",
    "        }\n",
    "\n",
    "    def _preprocess(self, text):\n",
    "        doc = self.nlp(text)\n",
    "        processed_text = \" \".join(\n",
    "            [\n",
    "                token.lemma_.lower()\n",
    "                for token in doc\n",
    "                if not token.is_stop and token.lemma_.isalpha()\n",
    "            ]\n",
    "        )\n",
    "        return processed_text"
   ]
  },
  {
   "cell_type": "code",
   "execution_count": 13,
   "metadata": {},
   "outputs": [],
   "source": [
    "training_set = LyricsAudioDataset(df_train, tokenizer, MAX_LEN)\n",
    "validation_set = LyricsAudioDataset(df_val, tokenizer, MAX_LEN)\n",
    "testing_set = LyricsAudioDataset(df_test, tokenizer, MAX_LEN)"
   ]
  },
  {
   "cell_type": "code",
   "execution_count": 14,
   "metadata": {},
   "outputs": [],
   "source": [
    "train_params = {\"batch_size\": TRAIN_BATCH_SIZE, \"shuffle\": True, \"num_workers\": 0}\n",
    "val_params = {\"batch_size\": VALID_BATCH_SIZE, \"shuffle\": True, \"num_workers\": 0}\n",
    "test_params = {\"batch_size\": VALID_BATCH_SIZE, \"shuffle\": False, \"num_workers\": 0}\n",
    "\n",
    "training_loader = DataLoader(training_set, **train_params)\n",
    "validation_loader = DataLoader(validation_set, **val_params)\n",
    "testing_loader = DataLoader(testing_set, **test_params)"
   ]
  },
  {
   "cell_type": "markdown",
   "metadata": {},
   "source": [
    "# 📐 Modeling\n"
   ]
  },
  {
   "cell_type": "code",
   "execution_count": 15,
   "metadata": {},
   "outputs": [],
   "source": [
    "class LyricAudioModel(nn.Module, PyTorchModelHubMixin):\n",
    "    def __init__(self, dropout_rate=0.3, l2_regularization=1e-5):\n",
    "        super().__init__()\n",
    "        self.pretrained_config = AutoConfig.from_pretrained(MODEL_NAME)\n",
    "        self.l1 = AutoModel.from_pretrained(MODEL_NAME, config=self.pretrained_config)\n",
    "        self.pre_classifier = nn.Linear(\n",
    "            self.pretrained_config.hidden_size + len(AUDIO_FEATURES),\n",
    "            self.pretrained_config.hidden_size,\n",
    "        )\n",
    "        self.dropout = nn.Dropout(dropout_rate)\n",
    "        self.classifier = nn.Linear(\n",
    "            self.pretrained_config.hidden_size, len(GENRE_MAPPING)\n",
    "        )\n",
    "\n",
    "        self.config = {\n",
    "            \"model_type\": MODEL_TYPE,\n",
    "            \"transformers_version\": transformers.__version__,\n",
    "            \"pytorch_version\": torch.__version__,\n",
    "            \"base_model\": MODEL_NAME,\n",
    "            \"use_auth_token\": \"False\",\n",
    "            \"revision\": \"main\",\n",
    "            \"task\": \"text-classification\",\n",
    "            \"dataset\": \"spotify_songs\",\n",
    "            \"pre_trained\": self.pretrained_config,\n",
    "            \"pre_classifier\": self.pre_classifier,\n",
    "            \"dropout\": self.dropout,\n",
    "            \"classifier\": self.classifier,\n",
    "            \"audio_features\": AUDIO_FEATURES,\n",
    "            \"genre_mapping\": GENRE_MAPPING,\n",
    "            \"max_len\": MAX_LEN,\n",
    "            \"train_batch_size\": TRAIN_BATCH_SIZE,\n",
    "            \"valid_batch_size\": VALID_BATCH_SIZE,\n",
    "            \"epochs\": EPOCHS,\n",
    "            \"learning_rate\": LEARNING_RATE,\n",
    "        }\n",
    "\n",
    "    def forward(\n",
    "        self, input_ids=None, attention_mask=None, token_type_ids=None, audio=None\n",
    "    ):\n",
    "        output_1 = self.l1(input_ids=input_ids, attention_mask=attention_mask)\n",
    "        hidden_state = output_1[0]\n",
    "        pooler = hidden_state[:, 0]\n",
    "        pooler = torch.cat((pooler, audio), 1)\n",
    "        pooler = self.pre_classifier(pooler)\n",
    "        pooler = nn.ReLU()(pooler)\n",
    "        pooler = self.dropout(pooler)\n",
    "        output = self.classifier(pooler)\n",
    "\n",
    "        return output"
   ]
  },
  {
   "cell_type": "code",
   "execution_count": 16,
   "metadata": {},
   "outputs": [
    {
     "data": {
      "text/plain": [
       "LyricAudioModel(\n",
       "  (l1): BertModel(\n",
       "    (embeddings): BertEmbeddings(\n",
       "      (word_embeddings): Embedding(30522, 768, padding_idx=0)\n",
       "      (position_embeddings): Embedding(512, 768)\n",
       "      (token_type_embeddings): Embedding(2, 768)\n",
       "      (LayerNorm): LayerNorm((768,), eps=1e-12, elementwise_affine=True)\n",
       "      (dropout): Dropout(p=0.1, inplace=False)\n",
       "    )\n",
       "    (encoder): BertEncoder(\n",
       "      (layer): ModuleList(\n",
       "        (0-11): 12 x BertLayer(\n",
       "          (attention): BertAttention(\n",
       "            (self): BertSelfAttention(\n",
       "              (query): Linear(in_features=768, out_features=768, bias=True)\n",
       "              (key): Linear(in_features=768, out_features=768, bias=True)\n",
       "              (value): Linear(in_features=768, out_features=768, bias=True)\n",
       "              (dropout): Dropout(p=0.1, inplace=False)\n",
       "            )\n",
       "            (output): BertSelfOutput(\n",
       "              (dense): Linear(in_features=768, out_features=768, bias=True)\n",
       "              (LayerNorm): LayerNorm((768,), eps=1e-12, elementwise_affine=True)\n",
       "              (dropout): Dropout(p=0.1, inplace=False)\n",
       "            )\n",
       "          )\n",
       "          (intermediate): BertIntermediate(\n",
       "            (dense): Linear(in_features=768, out_features=3072, bias=True)\n",
       "            (intermediate_act_fn): GELUActivation()\n",
       "          )\n",
       "          (output): BertOutput(\n",
       "            (dense): Linear(in_features=3072, out_features=768, bias=True)\n",
       "            (LayerNorm): LayerNorm((768,), eps=1e-12, elementwise_affine=True)\n",
       "            (dropout): Dropout(p=0.1, inplace=False)\n",
       "          )\n",
       "        )\n",
       "      )\n",
       "    )\n",
       "    (pooler): BertPooler(\n",
       "      (dense): Linear(in_features=768, out_features=768, bias=True)\n",
       "      (activation): Tanh()\n",
       "    )\n",
       "  )\n",
       "  (pre_classifier): Linear(in_features=779, out_features=768, bias=True)\n",
       "  (dropout): Dropout(p=0.3, inplace=False)\n",
       "  (classifier): Linear(in_features=768, out_features=5, bias=True)\n",
       ")"
      ]
     },
     "execution_count": 16,
     "metadata": {},
     "output_type": "execute_result"
    }
   ],
   "source": [
    "model = LyricAudioModel()\n",
    "model.to(device)"
   ]
  },
  {
   "cell_type": "code",
   "execution_count": 17,
   "metadata": {},
   "outputs": [],
   "source": [
    "# loss_function = nn.CrossEntropyLoss()\n",
    "loss_function = nn.CrossEntropyLoss(\n",
    "    weight=torch.tensor([1.0, 1.0, 1.0, 1.0, 1.0]).to(device)\n",
    ")\n",
    "\n",
    "optimizer = optim.AdamW(params=model.parameters(), lr=LEARNING_RATE)"
   ]
  },
  {
   "cell_type": "code",
   "execution_count": 18,
   "metadata": {},
   "outputs": [],
   "source": [
    "def calculate_accuracy(big_idx, targets):\n",
    "    n_correct = (big_idx == targets).sum().item()\n",
    "    return n_correct"
   ]
  },
  {
   "cell_type": "markdown",
   "metadata": {},
   "source": [
    "## 🧪 Training\n"
   ]
  },
  {
   "cell_type": "code",
   "execution_count": 19,
   "metadata": {},
   "outputs": [],
   "source": [
    "def train(epoch, model, train_loader, loss_function, optimizer, device):\n",
    "    total_loss = 0\n",
    "    correct_predictions = 0\n",
    "    total_samples = 0\n",
    "\n",
    "    model.train()\n",
    "\n",
    "    print(f\"🏃‍♂️ Training Epoch: {epoch + 1}\")\n",
    "\n",
    "    for _, batch in tqdm(enumerate(train_loader, 0), total=len(train_loader)):\n",
    "        input_ids = batch[\"input_ids\"].to(device, dtype=torch.long)\n",
    "        attention_mask = batch[\"attention_mask\"].to(device, dtype=torch.long)\n",
    "        token_type_ids = batch[\"token_type_ids\"].to(device, dtype=torch.long)\n",
    "        audio_features = batch[\"audio\"].to(device, dtype=torch.float)\n",
    "        targets = batch[\"targets\"].to(device, dtype=torch.long)\n",
    "\n",
    "        # Forward pass\n",
    "        outputs = model(input_ids, attention_mask, token_type_ids, audio_features)\n",
    "        loss = loss_function(outputs, targets)\n",
    "        total_loss += loss.item()\n",
    "\n",
    "        # Calculate and accumulate correct predictions\n",
    "        _, predictions = torch.max(outputs.data, dim=1)\n",
    "        correct_predictions += (predictions == targets).sum().item()\n",
    "\n",
    "        total_samples += targets.size(0)\n",
    "\n",
    "        # Backward pass and optimization step\n",
    "        optimizer.zero_grad()\n",
    "        loss.backward()\n",
    "        optimizer.step()\n",
    "\n",
    "    epoch_loss = total_loss / len(train_loader)\n",
    "    epoch_accuracy = (correct_predictions / total_samples) * 100\n",
    "\n",
    "    print(\n",
    "        f\"🏁 Training Epoch {epoch + 1} Complete | Loss: {epoch_loss:.4f} | Accuracy: {epoch_accuracy:.2f}%\\n\"\n",
    "    )\n",
    "\n",
    "    return epoch_loss, epoch_accuracy"
   ]
  },
  {
   "cell_type": "markdown",
   "metadata": {},
   "source": [
    "## 📈 Evaluation\n"
   ]
  },
  {
   "cell_type": "code",
   "execution_count": 20,
   "metadata": {},
   "outputs": [],
   "source": [
    "def evaluate(model, eval_loader, loss_function, device):\n",
    "    model.eval()\n",
    "    total_loss = 0\n",
    "    correct_predictions = 0\n",
    "    total_samples = 0\n",
    "\n",
    "    print(f\"🧐 Evaluating Model...\")\n",
    "\n",
    "    with torch.no_grad():\n",
    "        for _, batch in tqdm(enumerate(eval_loader, 0), total=len(eval_loader)):\n",
    "            input_ids = batch[\"input_ids\"].to(device, dtype=torch.long)\n",
    "            attention_mask = batch[\"attention_mask\"].to(device, dtype=torch.long)\n",
    "            token_type_ids = batch[\"token_type_ids\"].to(device, dtype=torch.long)\n",
    "            audio_features = batch[\"audio\"].to(device, dtype=torch.float)\n",
    "            targets = batch[\"targets\"].to(device, dtype=torch.long)\n",
    "\n",
    "            # Forward pass\n",
    "            outputs = model(input_ids, attention_mask, token_type_ids, audio_features)\n",
    "            loss = loss_function(outputs, targets)\n",
    "            total_loss += loss.item()\n",
    "\n",
    "            # Calculate and accumulate correct predictions\n",
    "            _, predictions = torch.max(outputs.data, dim=1)\n",
    "            correct_predictions += (predictions == targets).sum().item()\n",
    "\n",
    "            total_samples += targets.size(0)\n",
    "\n",
    "    epoch_loss = total_loss / len(eval_loader)\n",
    "    epoch_accuracy = (correct_predictions / total_samples) * 100\n",
    "\n",
    "    print(\n",
    "        f\"🏁 Evaluation Complete | Loss: {epoch_loss:.4f} | Accuracy: {epoch_accuracy:.2f}%\\n\"\n",
    "    )\n",
    "\n",
    "    return epoch_loss, epoch_accuracy"
   ]
  },
  {
   "cell_type": "markdown",
   "metadata": {},
   "source": [
    "## 🥧 Complie\n"
   ]
  },
  {
   "cell_type": "code",
   "execution_count": 21,
   "metadata": {},
   "outputs": [
    {
     "name": "stdout",
     "output_type": "stream",
     "text": [
      "🏃‍♂️ Training Epoch: 1\n"
     ]
    },
    {
     "name": "stderr",
     "output_type": "stream",
     "text": [
      "100%|██████████| 625/625 [04:57<00:00,  2.10it/s]\n"
     ]
    },
    {
     "name": "stdout",
     "output_type": "stream",
     "text": [
      "🏁 Training Epoch 1 Complete | Loss: 1.4812 | Accuracy: 38.54%\n",
      "\n",
      "🧐 Evaluating Model...\n"
     ]
    },
    {
     "name": "stderr",
     "output_type": "stream",
     "text": [
      "100%|██████████| 255/255 [00:33<00:00,  7.68it/s]\n"
     ]
    },
    {
     "name": "stdout",
     "output_type": "stream",
     "text": [
      "🏁 Evaluation Complete | Loss: 1.2325 | Accuracy: 49.02%\n",
      "\n",
      "🏃‍♂️ Training Epoch: 2\n"
     ]
    },
    {
     "name": "stderr",
     "output_type": "stream",
     "text": [
      "100%|██████████| 625/625 [04:54<00:00,  2.12it/s]\n"
     ]
    },
    {
     "name": "stdout",
     "output_type": "stream",
     "text": [
      "🏁 Training Epoch 2 Complete | Loss: 1.1562 | Accuracy: 54.34%\n",
      "\n",
      "🧐 Evaluating Model...\n"
     ]
    },
    {
     "name": "stderr",
     "output_type": "stream",
     "text": [
      "100%|██████████| 255/255 [00:34<00:00,  7.38it/s]\n"
     ]
    },
    {
     "name": "stdout",
     "output_type": "stream",
     "text": [
      "🏁 Evaluation Complete | Loss: 1.2399 | Accuracy: 50.10%\n",
      "\n",
      "🏃‍♂️ Training Epoch: 3\n"
     ]
    },
    {
     "name": "stderr",
     "output_type": "stream",
     "text": [
      "100%|██████████| 625/625 [04:51<00:00,  2.14it/s]\n"
     ]
    },
    {
     "name": "stdout",
     "output_type": "stream",
     "text": [
      "🏁 Training Epoch 3 Complete | Loss: 0.9016 | Accuracy: 66.26%\n",
      "\n",
      "🧐 Evaluating Model...\n"
     ]
    },
    {
     "name": "stderr",
     "output_type": "stream",
     "text": [
      "100%|██████████| 255/255 [00:31<00:00,  8.03it/s]\n"
     ]
    },
    {
     "name": "stdout",
     "output_type": "stream",
     "text": [
      "🏁 Evaluation Complete | Loss: 1.2041 | Accuracy: 55.00%\n",
      "\n",
      "🏃‍♂️ Training Epoch: 4\n"
     ]
    },
    {
     "name": "stderr",
     "output_type": "stream",
     "text": [
      "100%|██████████| 625/625 [04:51<00:00,  2.14it/s]\n"
     ]
    },
    {
     "name": "stdout",
     "output_type": "stream",
     "text": [
      "🏁 Training Epoch 4 Complete | Loss: 0.5994 | Accuracy: 78.62%\n",
      "\n",
      "🧐 Evaluating Model...\n"
     ]
    },
    {
     "name": "stderr",
     "output_type": "stream",
     "text": [
      "100%|██████████| 255/255 [00:31<00:00,  8.04it/s]"
     ]
    },
    {
     "name": "stdout",
     "output_type": "stream",
     "text": [
      "🏁 Evaluation Complete | Loss: 1.5412 | Accuracy: 50.49%\n",
      "\n",
      "🚨 Overfitting detected! Stopping training at epoch 4\n",
      "🎯 Training complete!\n"
     ]
    },
    {
     "name": "stderr",
     "output_type": "stream",
     "text": [
      "\n"
     ]
    }
   ],
   "source": [
    "train_losses = []\n",
    "train_accuracies = []\n",
    "validation_losses = []\n",
    "validation_accuracies = []\n",
    "\n",
    "for epoch in range(EPOCHS):\n",
    "    train_loss, train_accuracy = train(\n",
    "        epoch, model, training_loader, loss_function, optimizer, device\n",
    "    )\n",
    "    train_losses.append(train_loss)\n",
    "    train_accuracies.append(train_accuracy)\n",
    "\n",
    "    validation_loss, validation_accuracy = evaluate(\n",
    "        model, validation_loader, loss_function, device\n",
    "    )\n",
    "    validation_losses.append(validation_loss)\n",
    "    validation_accuracies.append(validation_accuracy)\n",
    "\n",
    "    if validation_accuracy > max(validation_accuracies):\n",
    "        model.save_pretrained(f\"{data_path}/models/lyric_audio_model\")\n",
    "        print(f\"🎉 Model saved at epoch {epoch + 1}\")\n",
    "\n",
    "    # overfitting check\n",
    "    if len(validation_accuracies) > 2:\n",
    "        if validation_accuracies[-1] < validation_accuracies[-2]:\n",
    "            print(f\"🚨 Overfitting detected! Stopping training at epoch {epoch + 1}\")\n",
    "            break\n",
    "\n",
    "print(\"🎯 Training complete!\")"
   ]
  },
  {
   "cell_type": "markdown",
   "metadata": {},
   "source": [
    "# 😵 Report\n"
   ]
  },
  {
   "cell_type": "code",
   "execution_count": 22,
   "metadata": {},
   "outputs": [],
   "source": [
    "def get_predictions(model, data_loader):\n",
    "    model.eval()\n",
    "    predictions = []\n",
    "    real_values = []\n",
    "\n",
    "    with torch.no_grad():\n",
    "        for _, batch in tqdm(\n",
    "            enumerate(data_loader, 0), total=len(data_loader), desc=\"Predicting\"\n",
    "        ):\n",
    "            input_ids = batch[\"input_ids\"].to(device, dtype=torch.long)\n",
    "            attention_mask = batch[\"attention_mask\"].to(device, dtype=torch.long)\n",
    "            token_type_ids = batch[\"token_type_ids\"].to(device, dtype=torch.long)\n",
    "            audio_features = batch[\"audio\"].to(device, dtype=torch.float)\n",
    "            targets = batch[\"targets\"].to(device, dtype=torch.long)\n",
    "\n",
    "            outputs = model(input_ids, attention_mask, token_type_ids, audio_features)\n",
    "            _, preds = torch.max(outputs, dim=1)\n",
    "\n",
    "            predictions.append(preds)\n",
    "            real_values.append(targets)\n",
    "\n",
    "    predictions = torch.cat(predictions).cpu()\n",
    "    real_values = torch.cat(real_values).cpu()\n",
    "\n",
    "    return predictions, real_values"
   ]
  },
  {
   "cell_type": "code",
   "execution_count": 23,
   "metadata": {},
   "outputs": [
    {
     "name": "stderr",
     "output_type": "stream",
     "text": [
      "Predicting: 100%|██████████| 284/284 [00:22<00:00, 12.72it/s]\n"
     ]
    },
    {
     "name": "stdout",
     "output_type": "stream",
     "text": [
      "📊 Classification Report\n",
      "              precision    recall  f1-score   support\n",
      "\n",
      "         edm       0.47      0.56      0.51       156\n",
      "         r&b       0.58      0.43      0.49       237\n",
      "         rap       0.68      0.80      0.74       137\n",
      "        rock       0.71      0.36      0.48       304\n",
      "         pop       0.42      0.64      0.51       300\n",
      "\n",
      "    accuracy                           0.53      1134\n",
      "   macro avg       0.57      0.56      0.55      1134\n",
      "weighted avg       0.57      0.53      0.53      1134\n",
      "\n"
     ]
    }
   ],
   "source": [
    "y_pred, y_test = get_predictions(model, testing_loader)\n",
    "report = classification_report(\n",
    "    y_test, y_pred, target_names=GENRE_MAPPING.keys(), output_dict=True\n",
    ")\n",
    "\n",
    "print(\"📊 Classification Report\")\n",
    "print(classification_report(y_test, y_pred, target_names=GENRE_MAPPING.keys()))"
   ]
  },
  {
   "cell_type": "code",
   "execution_count": 24,
   "metadata": {},
   "outputs": [
    {
     "name": "stdout",
     "output_type": "stream",
     "text": [
      "📊 Save Classification Report\n"
     ]
    }
   ],
   "source": [
    "print(f\"📊 Save Classification Report\")\n",
    "report_df = pd.DataFrame(report).transpose()\n",
    "report_df.to_csv(f\"{data_path}/report/classification_report.csv\", index=False)"
   ]
  },
  {
   "cell_type": "markdown",
   "metadata": {},
   "source": [
    "# 📊 Visualization\n"
   ]
  },
  {
   "cell_type": "code",
   "execution_count": 25,
   "metadata": {},
   "outputs": [
    {
     "data": {
      "image/png": "[encoded data removed]",
      "text/plain": [
       "<Figure size 1000x500 with 2 Axes>"
      ]
     },
     "metadata": {},
     "output_type": "display_data"
    }
   ],
   "source": [
    "def plot_metrics(train_losses, train_accuracies, validation_accuracies):\n",
    "    fig, ax1 = plt.subplots(figsize=(10, 5))\n",
    "\n",
    "    ax1.set_xlabel(\"Epoch\")\n",
    "    ax1.set_ylabel(\"Loss\", color=\"tab:red\")\n",
    "    ax1.plot(train_losses, label=\"Training Loss\", color=\"tab:red\")\n",
    "    ax1.tick_params(axis=\"y\", labelcolor=\"tab:red\")\n",
    "\n",
    "    ax2 = ax1.twinx()\n",
    "    ax2.set_ylabel(\"Accuracy\", color=\"tab:blue\")\n",
    "\n",
    "    ax2.plot(train_accuracies, label=\"Training Accuracy\", color=\"tab:blue\")\n",
    "    ax2.plot(\n",
    "        validation_accuracies,\n",
    "        label=\"Validation Accuracy\",\n",
    "        linestyle=\"--\",\n",
    "        color=\"tab:blue\",\n",
    "    )\n",
    "    ax2.tick_params(axis=\"y\", labelcolor=\"tab:blue\")\n",
    "\n",
    "    fig.tight_layout()\n",
    "    ax1.legend(loc=\"upper left\")\n",
    "    ax2.legend(loc=\"upper right\")\n",
    "    plt.show()\n",
    "    fig.savefig(f\"{data_path}/report/metrics.png\")\n",
    "\n",
    "\n",
    "plot_metrics(train_losses, train_accuracies, validation_accuracies)"
   ]
  },
  {
   "cell_type": "markdown",
   "metadata": {},
   "source": [
    "# ☁️ Upload to Hugging Face\n"
   ]
  },
  {
   "cell_type": "code",
   "execution_count": 26,
   "metadata": {},
   "outputs": [],
   "source": [
    "if validation_accuracies[-1] > 70.0:\n",
    "    repository_name = \"PunGrumpy/music-genre-classification\"\n",
    "\n",
    "    config = json.dumps(model.config.__dict__)\n",
    "\n",
    "    model.push_to_hub(repository_name, token=True, config=config)\n",
    "    tokenizer.push_to_hub(repository_name, token=True)\n",
    "    print(f\"Model pushed to {repository_name}\")"
   ]
  },
  {
   "cell_type": "markdown",
   "metadata": {},
   "source": [
    "# 🛟 Save Model and Tokenizer\n"
   ]
  },
  {
   "cell_type": "code",
   "execution_count": 27,
   "metadata": {},
   "outputs": [
    {
     "name": "stdout",
     "output_type": "stream",
     "text": [
      "Model saved to .//model\n"
     ]
    }
   ],
   "source": [
    "model_path = f\"{data_path}/model\"\n",
    "\n",
    "model.save_pretrained(model_path)\n",
    "tokenizer.save_pretrained(model_path)\n",
    "print(f\"Model saved to {model_path}\")"
   ]
  }
 ],
 "metadata": {
  "kernelspec": {
   "display_name": "nlp",
   "language": "python",
   "name": "python3"
  },
  "language_info": {
   "codemirror_mode": {
    "name": "ipython",
    "version": 3
   },
   "file_extension": ".py",
   "mimetype": "text/x-python",
   "name": "python",
   "nbconvert_exporter": "python",
   "pygments_lexer": "ipython3",
   "version": "3.11.7"
  }
 },
 "nbformat": 4,
 "nbformat_minor": 2
}
