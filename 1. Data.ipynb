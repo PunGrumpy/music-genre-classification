{
 "cells": [
  {
   "cell_type": "code",
   "execution_count": 1,
   "metadata": {},
   "outputs": [
    {
     "name": "stdout",
     "output_type": "stream",
     "text": [
      "WARNING:tensorflow:From c:\\Users\\grumpy\\anaconda3\\envs\\nlp\\Lib\\site-packages\\keras\\src\\losses.py:2976: The name tf.losses.sparse_softmax_cross_entropy is deprecated. Please use tf.compat.v1.losses.sparse_softmax_cross_entropy instead.\n",
      "\n"
     ]
    }
   ],
   "source": [
    "import numpy as np\n",
    "import pandas as pd\n",
    "\n",
    "from keras.utils import to_categorical\n",
    "from sklearn.model_selection import train_test_split"
   ]
  },
  {
   "cell_type": "code",
   "execution_count": 2,
   "metadata": {},
   "outputs": [],
   "source": [
    "pd = pd.read_csv(\"./data/balanced_df.csv\")"
   ]
  },
  {
   "cell_type": "code",
   "execution_count": 3,
   "metadata": {},
   "outputs": [
    {
     "data": {
      "text/html": [
       "<div>\n",
       "<style scoped>\n",
       "    .dataframe tbody tr th:only-of-type {\n",
       "        vertical-align: middle;\n",
       "    }\n",
       "\n",
       "    .dataframe tbody tr th {\n",
       "        vertical-align: top;\n",
       "    }\n",
       "\n",
       "    .dataframe thead th {\n",
       "        text-align: right;\n",
       "    }\n",
       "</style>\n",
       "<table border=\"1\" class=\"dataframe\">\n",
       "  <thead>\n",
       "    <tr style=\"text-align: right;\">\n",
       "      <th></th>\n",
       "      <th>lyrics</th>\n",
       "      <th>playlist_genre</th>\n",
       "      <th>danceability</th>\n",
       "      <th>energy</th>\n",
       "      <th>key</th>\n",
       "      <th>loudness</th>\n",
       "      <th>mode</th>\n",
       "      <th>speechiness</th>\n",
       "      <th>acousticness</th>\n",
       "      <th>instrumentalness</th>\n",
       "      <th>liveness</th>\n",
       "      <th>valence</th>\n",
       "      <th>tempo</th>\n",
       "      <th>duration_ms</th>\n",
       "    </tr>\n",
       "  </thead>\n",
       "  <tbody>\n",
       "    <tr>\n",
       "      <th>0</th>\n",
       "      <td>Need you forever, forever, forever Need you fo...</td>\n",
       "      <td>pop</td>\n",
       "      <td>0.714</td>\n",
       "      <td>0.705</td>\n",
       "      <td>10</td>\n",
       "      <td>-6.479</td>\n",
       "      <td>1</td>\n",
       "      <td>0.0995</td>\n",
       "      <td>0.2920</td>\n",
       "      <td>0.000386</td>\n",
       "      <td>0.1260</td>\n",
       "      <td>0.471</td>\n",
       "      <td>114.994</td>\n",
       "      <td>219521</td>\n",
       "    </tr>\n",
       "    <tr>\n",
       "      <th>1</th>\n",
       "      <td>We don't talk anymore, we don't talk anymore W...</td>\n",
       "      <td>pop</td>\n",
       "      <td>0.728</td>\n",
       "      <td>0.563</td>\n",
       "      <td>1</td>\n",
       "      <td>-8.053</td>\n",
       "      <td>0</td>\n",
       "      <td>0.1340</td>\n",
       "      <td>0.6210</td>\n",
       "      <td>0.000000</td>\n",
       "      <td>0.1790</td>\n",
       "      <td>0.352</td>\n",
       "      <td>100.017</td>\n",
       "      <td>217707</td>\n",
       "    </tr>\n",
       "    <tr>\n",
       "      <th>2</th>\n",
       "      <td>It almost feels like it was just a dream All t...</td>\n",
       "      <td>pop</td>\n",
       "      <td>0.669</td>\n",
       "      <td>0.593</td>\n",
       "      <td>7</td>\n",
       "      <td>-6.628</td>\n",
       "      <td>1</td>\n",
       "      <td>0.0406</td>\n",
       "      <td>0.1400</td>\n",
       "      <td>0.000000</td>\n",
       "      <td>0.1190</td>\n",
       "      <td>0.281</td>\n",
       "      <td>87.965</td>\n",
       "      <td>145413</td>\n",
       "    </tr>\n",
       "    <tr>\n",
       "      <th>3</th>\n",
       "      <td>It's my direction It's my proposal It's so har...</td>\n",
       "      <td>pop</td>\n",
       "      <td>0.741</td>\n",
       "      <td>0.742</td>\n",
       "      <td>1</td>\n",
       "      <td>-7.557</td>\n",
       "      <td>1</td>\n",
       "      <td>0.0306</td>\n",
       "      <td>0.4970</td>\n",
       "      <td>0.885000</td>\n",
       "      <td>0.0863</td>\n",
       "      <td>0.845</td>\n",
       "      <td>102.800</td>\n",
       "      <td>219507</td>\n",
       "    </tr>\n",
       "    <tr>\n",
       "      <th>4</th>\n",
       "      <td>Voy a ponerme mi traje plomo Al que en su tela...</td>\n",
       "      <td>pop</td>\n",
       "      <td>0.807</td>\n",
       "      <td>0.680</td>\n",
       "      <td>2</td>\n",
       "      <td>-7.226</td>\n",
       "      <td>1</td>\n",
       "      <td>0.0353</td>\n",
       "      <td>0.0358</td>\n",
       "      <td>0.000194</td>\n",
       "      <td>0.0834</td>\n",
       "      <td>0.840</td>\n",
       "      <td>113.977</td>\n",
       "      <td>248960</td>\n",
       "    </tr>\n",
       "  </tbody>\n",
       "</table>\n",
       "</div>"
      ],
      "text/plain": [
       "                                              lyrics playlist_genre  \\\n",
       "0  Need you forever, forever, forever Need you fo...            pop   \n",
       "1  We don't talk anymore, we don't talk anymore W...            pop   \n",
       "2  It almost feels like it was just a dream All t...            pop   \n",
       "3  It's my direction It's my proposal It's so har...            pop   \n",
       "4  Voy a ponerme mi traje plomo Al que en su tela...            pop   \n",
       "\n",
       "   danceability  energy  key  loudness  mode  speechiness  acousticness  \\\n",
       "0         0.714   0.705   10    -6.479     1       0.0995        0.2920   \n",
       "1         0.728   0.563    1    -8.053     0       0.1340        0.6210   \n",
       "2         0.669   0.593    7    -6.628     1       0.0406        0.1400   \n",
       "3         0.741   0.742    1    -7.557     1       0.0306        0.4970   \n",
       "4         0.807   0.680    2    -7.226     1       0.0353        0.0358   \n",
       "\n",
       "   instrumentalness  liveness  valence    tempo  duration_ms  \n",
       "0          0.000386    0.1260    0.471  114.994       219521  \n",
       "1          0.000000    0.1790    0.352  100.017       217707  \n",
       "2          0.000000    0.1190    0.281   87.965       145413  \n",
       "3          0.885000    0.0863    0.845  102.800       219507  \n",
       "4          0.000194    0.0834    0.840  113.977       248960  "
      ]
     },
     "execution_count": 3,
     "metadata": {},
     "output_type": "execute_result"
    }
   ],
   "source": [
    "pd.head()"
   ]
  },
  {
   "cell_type": "code",
   "execution_count": 4,
   "metadata": {},
   "outputs": [
    {
     "name": "stdout",
     "output_type": "stream",
     "text": [
      "Shape of the dataframe: (8000, 14)\n",
      "Number of unique classes: 5\n"
     ]
    }
   ],
   "source": [
    "print(f\"Shape of the dataframe: {pd.shape}\")\n",
    "print(f\"Number of unique classes: {pd['playlist_genre'].nunique()}\")"
   ]
  },
  {
   "cell_type": "code",
   "execution_count": 5,
   "metadata": {},
   "outputs": [
    {
     "name": "stdout",
     "output_type": "stream",
     "text": [
      "Genre id mapping: {'pop': 0, 'rap': 1, 'rock': 2, 'r&b': 3, 'edm': 4}\n"
     ]
    }
   ],
   "source": [
    "genre_id = {genre: i for i, genre in enumerate(pd[\"playlist_genre\"].unique())}\n",
    "pd[\"playlist_genre_id\"] = pd[\"playlist_genre\"].map(genre_id)\n",
    "\n",
    "print(f\"Genre id mapping: {genre_id}\")"
   ]
  },
  {
   "cell_type": "code",
   "execution_count": 6,
   "metadata": {},
   "outputs": [
    {
     "name": "stdout",
     "output_type": "stream",
     "text": [
      "Shape of the encoded genre: (8000, 5)\n"
     ]
    }
   ],
   "source": [
    "encoded_genre = pd[\"playlist_genre\"].map(genre_id)\n",
    "num_classes = len(genre_id)\n",
    "encoded_genre = to_categorical(encoded_genre, num_classes)\n",
    "\n",
    "print(f\"Shape of the encoded genre: {encoded_genre.shape}\")"
   ]
  },
  {
   "cell_type": "code",
   "execution_count": 7,
   "metadata": {},
   "outputs": [],
   "source": [
    "# Split the data into train and test 70-30\n",
    "X_train, X_test, y_train, y_test = train_test_split(\n",
    "    pd,\n",
    "    encoded_genre,\n",
    "    test_size=0.3,\n",
    "    train_size=0.7,\n",
    "    shuffle=True,\n",
    "    random_state=42,\n",
    "    stratify=encoded_genre,\n",
    ")"
   ]
  },
  {
   "cell_type": "code",
   "execution_count": 8,
   "metadata": {},
   "outputs": [
    {
     "name": "stdout",
     "output_type": "stream",
     "text": [
      "Shape of the training data: (5600, 15)\n",
      "Shape of the test data: (2400, 15)\n"
     ]
    }
   ],
   "source": [
    "print(f\"Shape of the training data: {X_train.shape}\")\n",
    "print(f\"Shape of the test data: {X_test.shape}\")"
   ]
  },
  {
   "cell_type": "code",
   "execution_count": 9,
   "metadata": {},
   "outputs": [
    {
     "data": {
      "text/html": [
       "<div>\n",
       "<style scoped>\n",
       "    .dataframe tbody tr th:only-of-type {\n",
       "        vertical-align: middle;\n",
       "    }\n",
       "\n",
       "    .dataframe tbody tr th {\n",
       "        vertical-align: top;\n",
       "    }\n",
       "\n",
       "    .dataframe thead th {\n",
       "        text-align: right;\n",
       "    }\n",
       "</style>\n",
       "<table border=\"1\" class=\"dataframe\">\n",
       "  <thead>\n",
       "    <tr style=\"text-align: right;\">\n",
       "      <th></th>\n",
       "      <th>lyrics</th>\n",
       "      <th>playlist_genre</th>\n",
       "      <th>danceability</th>\n",
       "      <th>energy</th>\n",
       "      <th>key</th>\n",
       "      <th>loudness</th>\n",
       "      <th>mode</th>\n",
       "      <th>speechiness</th>\n",
       "      <th>acousticness</th>\n",
       "      <th>instrumentalness</th>\n",
       "      <th>liveness</th>\n",
       "      <th>valence</th>\n",
       "      <th>tempo</th>\n",
       "      <th>duration_ms</th>\n",
       "      <th>playlist_genre_id</th>\n",
       "    </tr>\n",
       "  </thead>\n",
       "  <tbody>\n",
       "    <tr>\n",
       "      <th>7070</th>\n",
       "      <td>A gente terminou, eu te bloqueei Mas você aind...</td>\n",
       "      <td>edm</td>\n",
       "      <td>0.654</td>\n",
       "      <td>0.951</td>\n",
       "      <td>9</td>\n",
       "      <td>-2.935</td>\n",
       "      <td>0</td>\n",
       "      <td>0.0558</td>\n",
       "      <td>0.28800</td>\n",
       "      <td>0.000000</td>\n",
       "      <td>0.1210</td>\n",
       "      <td>0.913</td>\n",
       "      <td>158.904</td>\n",
       "      <td>156913</td>\n",
       "      <td>4</td>\n",
       "    </tr>\n",
       "    <tr>\n",
       "      <th>5356</th>\n",
       "      <td>She's a very kinky girl The kind you don't tak...</td>\n",
       "      <td>r&amp;b</td>\n",
       "      <td>0.515</td>\n",
       "      <td>0.851</td>\n",
       "      <td>10</td>\n",
       "      <td>-4.213</td>\n",
       "      <td>1</td>\n",
       "      <td>0.0333</td>\n",
       "      <td>0.47600</td>\n",
       "      <td>0.003460</td>\n",
       "      <td>0.1280</td>\n",
       "      <td>0.967</td>\n",
       "      <td>148.232</td>\n",
       "      <td>244320</td>\n",
       "      <td>3</td>\n",
       "    </tr>\n",
       "    <tr>\n",
       "      <th>4209</th>\n",
       "      <td>Someone knockin' at the door Somebody ringin' ...</td>\n",
       "      <td>rock</td>\n",
       "      <td>0.761</td>\n",
       "      <td>0.482</td>\n",
       "      <td>10</td>\n",
       "      <td>-11.849</td>\n",
       "      <td>1</td>\n",
       "      <td>0.0572</td>\n",
       "      <td>0.49100</td>\n",
       "      <td>0.310000</td>\n",
       "      <td>0.0864</td>\n",
       "      <td>0.626</td>\n",
       "      <td>88.054</td>\n",
       "      <td>311880</td>\n",
       "      <td>2</td>\n",
       "    </tr>\n",
       "    <tr>\n",
       "      <th>7257</th>\n",
       "      <td>Let's light it up, let's light it up Until our...</td>\n",
       "      <td>edm</td>\n",
       "      <td>0.645</td>\n",
       "      <td>0.891</td>\n",
       "      <td>6</td>\n",
       "      <td>-2.505</td>\n",
       "      <td>0</td>\n",
       "      <td>0.0387</td>\n",
       "      <td>0.09320</td>\n",
       "      <td>0.000004</td>\n",
       "      <td>0.3790</td>\n",
       "      <td>0.568</td>\n",
       "      <td>124.915</td>\n",
       "      <td>203520</td>\n",
       "      <td>4</td>\n",
       "    </tr>\n",
       "    <tr>\n",
       "      <th>6739</th>\n",
       "      <td>Sé que te gusto a ti todavía Tres, dos, uno St...</td>\n",
       "      <td>edm</td>\n",
       "      <td>0.887</td>\n",
       "      <td>0.852</td>\n",
       "      <td>8</td>\n",
       "      <td>-5.224</td>\n",
       "      <td>1</td>\n",
       "      <td>0.0581</td>\n",
       "      <td>0.00783</td>\n",
       "      <td>0.000472</td>\n",
       "      <td>0.0697</td>\n",
       "      <td>0.621</td>\n",
       "      <td>122.989</td>\n",
       "      <td>208659</td>\n",
       "      <td>4</td>\n",
       "    </tr>\n",
       "  </tbody>\n",
       "</table>\n",
       "</div>"
      ],
      "text/plain": [
       "                                                 lyrics playlist_genre  \\\n",
       "7070  A gente terminou, eu te bloqueei Mas você aind...            edm   \n",
       "5356  She's a very kinky girl The kind you don't tak...            r&b   \n",
       "4209  Someone knockin' at the door Somebody ringin' ...           rock   \n",
       "7257  Let's light it up, let's light it up Until our...            edm   \n",
       "6739  Sé que te gusto a ti todavía Tres, dos, uno St...            edm   \n",
       "\n",
       "      danceability  energy  key  loudness  mode  speechiness  acousticness  \\\n",
       "7070         0.654   0.951    9    -2.935     0       0.0558       0.28800   \n",
       "5356         0.515   0.851   10    -4.213     1       0.0333       0.47600   \n",
       "4209         0.761   0.482   10   -11.849     1       0.0572       0.49100   \n",
       "7257         0.645   0.891    6    -2.505     0       0.0387       0.09320   \n",
       "6739         0.887   0.852    8    -5.224     1       0.0581       0.00783   \n",
       "\n",
       "      instrumentalness  liveness  valence    tempo  duration_ms  \\\n",
       "7070          0.000000    0.1210    0.913  158.904       156913   \n",
       "5356          0.003460    0.1280    0.967  148.232       244320   \n",
       "4209          0.310000    0.0864    0.626   88.054       311880   \n",
       "7257          0.000004    0.3790    0.568  124.915       203520   \n",
       "6739          0.000472    0.0697    0.621  122.989       208659   \n",
       "\n",
       "      playlist_genre_id  \n",
       "7070                  4  \n",
       "5356                  3  \n",
       "4209                  2  \n",
       "7257                  4  \n",
       "6739                  4  "
      ]
     },
     "execution_count": 9,
     "metadata": {},
     "output_type": "execute_result"
    }
   ],
   "source": [
    "X_train.head()"
   ]
  },
  {
   "cell_type": "code",
   "execution_count": 10,
   "metadata": {},
   "outputs": [
    {
     "name": "stdout",
     "output_type": "stream",
     "text": [
      "Genre count: playlist_genre\n",
      "edm     1120\n",
      "r&b     1120\n",
      "rock    1120\n",
      "pop     1120\n",
      "rap     1120\n",
      "Name: count, dtype: int64\n"
     ]
    }
   ],
   "source": [
    "genre_count = X_train[\"playlist_genre\"].value_counts()\n",
    "\n",
    "print(f\"Genre count: {genre_count}\")"
   ]
  },
  {
   "cell_type": "code",
   "execution_count": 11,
   "metadata": {},
   "outputs": [],
   "source": [
    "X_train.to_csv(\"./data/train_clean.csv.zip\", index=False, compression=\"zip\")\n",
    "X_test.to_csv(\"./data/test_clean.csv.zip\", index=False, compression=\"zip\")"
   ]
  },
  {
   "cell_type": "code",
   "execution_count": null,
   "metadata": {},
   "outputs": [],
   "source": []
  }
 ],
 "metadata": {
  "kernelspec": {
   "display_name": "nlp",
   "language": "python",
   "name": "python3"
  },
  "language_info": {
   "codemirror_mode": {
    "name": "ipython",
    "version": 3
   },
   "file_extension": ".py",
   "mimetype": "text/x-python",
   "name": "python",
   "nbconvert_exporter": "python",
   "pygments_lexer": "ipython3",
   "version": "3.11.7"
  }
 },
 "nbformat": 4,
 "nbformat_minor": 2
}
