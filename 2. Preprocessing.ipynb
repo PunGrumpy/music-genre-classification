{
 "cells": [
  {
   "cell_type": "code",
   "execution_count": 1,
   "metadata": {},
   "outputs": [
    {
     "name": "stderr",
     "output_type": "stream",
     "text": [
      "c:\\Users\\grumpy\\anaconda3\\envs\\nlp\\Lib\\site-packages\\tqdm\\auto.py:21: TqdmWarning: IProgress not found. Please update jupyter and ipywidgets. See https://ipywidgets.readthedocs.io/en/stable/user_install.html\n",
      "  from .autonotebook import tqdm as notebook_tqdm\n"
     ]
    }
   ],
   "source": [
    "import gensim.downloader as api\n",
    "\n",
    "from tqdm import tqdm\n",
    "from transformers import AutoTokenizer\n",
    "from src.MusicGenreDataset import MusicGenreDatasetWithPreprocess"
   ]
  },
  {
   "cell_type": "markdown",
   "metadata": {},
   "source": [
    "# BERT Preprocessing\n"
   ]
  },
  {
   "cell_type": "code",
   "execution_count": 2,
   "metadata": {},
   "outputs": [],
   "source": [
    "model_name = \"distilbert-base-uncased\"\n",
    "bert_model = AutoTokenizer.from_pretrained(model_name)"
   ]
  },
  {
   "cell_type": "code",
   "execution_count": 3,
   "metadata": {},
   "outputs": [
    {
     "name": "stdout",
     "output_type": "stream",
     "text": [
      "Store processed data is activated. Saving processed data to d:\\NLP\\music-genre-classification\\data\\BERT ...\n",
      "Preprocessing done. Saving to d:\\NLP\\music-genre-classification\\data\\BERT\\ids_24-02-26_202120.csv.zip ...\n",
      "CPU times: total: 828 ms\n",
      "Wall time: 8.29 s\n"
     ]
    }
   ],
   "source": [
    "%%time\n",
    "train_dataset = MusicGenreDatasetWithPreprocess(\n",
    "    path_data=\"./data/train_unclean.csv.zip\",\n",
    "    embedder_model=bert_model,\n",
    "    embedder_type=\"bert\",\n",
    "    max_seq_length=512,\n",
    "    input_type=\"unclean\",\n",
    "    store_processed=True,\n",
    "    output_dir=\"./data/BERT\",\n",
    ")\n"
   ]
  },
  {
   "cell_type": "code",
   "execution_count": 4,
   "metadata": {},
   "outputs": [
    {
     "name": "stdout",
     "output_type": "stream",
     "text": [
      "Store processed data is activated. Saving processed data to d:\\NLP\\music-genre-classification\\data\\BERT ...\n",
      "Preprocessing done. Saving to d:\\NLP\\music-genre-classification\\data\\BERT\\ids_24-02-26_202134.csv.zip ...\n",
      "CPU times: total: 641 ms\n",
      "Wall time: 14.9 s\n"
     ]
    }
   ],
   "source": [
    "%%time\n",
    "val_dataset = MusicGenreDatasetWithPreprocess(\n",
    "    path_data=\"./data/val_unclean.csv.zip\",\n",
    "    embedder_model=bert_model,\n",
    "    embedder_type=\"bert\",\n",
    "    max_seq_length=512,\n",
    "    input_type=\"unclean\",\n",
    "    store_processed=True,\n",
    "    output_dir=\"./data/BERT\",\n",
    ")"
   ]
  },
  {
   "cell_type": "code",
   "execution_count": 5,
   "metadata": {},
   "outputs": [
    {
     "name": "stdout",
     "output_type": "stream",
     "text": [
      "Store processed data is activated. Saving processed data to d:\\NLP\\music-genre-classification\\data\\BERT ...\n",
      "Preprocessing done. Saving to d:\\NLP\\music-genre-classification\\data\\BERT\\ids_24-02-26_202151.csv.zip ...\n",
      "CPU times: total: 438 ms\n",
      "Wall time: 16.3 s\n"
     ]
    }
   ],
   "source": [
    "%%time\n",
    "test_dataset = MusicGenreDatasetWithPreprocess(\n",
    "    path_data=\"./data/test_unclean.csv.zip\",\n",
    "    embedder_model=bert_model,\n",
    "    embedder_type=\"bert\",\n",
    "    max_seq_length=512,\n",
    "    input_type=\"unclean\",\n",
    "    store_processed=True,\n",
    "    output_dir=\"./data/BERT\",\n",
    ")"
   ]
  },
  {
   "cell_type": "markdown",
   "metadata": {},
   "source": [
    "# Word2Vec Preprocessing\n"
   ]
  },
  {
   "cell_type": "code",
   "execution_count": 6,
   "metadata": {},
   "outputs": [],
   "source": [
    "model_name = \"word2vec-google-news-300\"\n",
    "word2vec_model = api.load(model_name)"
   ]
  },
  {
   "cell_type": "code",
   "execution_count": 7,
   "metadata": {},
   "outputs": [
    {
     "name": "stdout",
     "output_type": "stream",
     "text": [
      "Store processed data is activated. Saving processed data to d:\\NLP\\music-genre-classification\\data\\W2V ...\n",
      "Preprocessing done. Saving to d:\\NLP\\music-genre-classification\\data\\W2V\\ids_24-02-26_202220.csv.zip ...\n",
      "CPU times: total: 8.73 s\n",
      "Wall time: 1min 3s\n"
     ]
    }
   ],
   "source": [
    "%%time\n",
    "train_dataset = MusicGenreDatasetWithPreprocess(\n",
    "    path_data=\"./data/train_unclean.csv.zip\",\n",
    "    embedder_model=word2vec_model,\n",
    "    embedder_type=\"gensim\",\n",
    "    max_seq_length=512,\n",
    "    input_type=\"unclean\",\n",
    "    store_processed=True,\n",
    "    output_dir=\"./data/W2V\",\n",
    ")"
   ]
  },
  {
   "cell_type": "code",
   "execution_count": 8,
   "metadata": {},
   "outputs": [
    {
     "name": "stdout",
     "output_type": "stream",
     "text": [
      "Store processed data is activated. Saving processed data to d:\\NLP\\music-genre-classification\\data\\W2V ...\n",
      "Preprocessing done. Saving to d:\\NLP\\music-genre-classification\\data\\W2V\\ids_24-02-26_202330.csv.zip ...\n",
      "CPU times: total: 20.6 s\n",
      "Wall time: 2min 7s\n"
     ]
    }
   ],
   "source": [
    "%%time\n",
    "val_dataset = MusicGenreDatasetWithPreprocess(\n",
    "    path_data=\"./data/val_unclean.csv.zip\",\n",
    "    embedder_model=word2vec_model,\n",
    "    embedder_type=\"gensim\",\n",
    "    max_seq_length=512,\n",
    "    input_type=\"unclean\",\n",
    "    store_processed=True,\n",
    "    output_dir=\"./data/W2V\",\n",
    ")"
   ]
  },
  {
   "cell_type": "code",
   "execution_count": 9,
   "metadata": {},
   "outputs": [
    {
     "name": "stdout",
     "output_type": "stream",
     "text": [
      "Store processed data is activated. Saving processed data to d:\\NLP\\music-genre-classification\\data\\W2V ...\n",
      "Preprocessing done. Saving to d:\\NLP\\music-genre-classification\\data\\W2V\\ids_24-02-26_202538.csv.zip ...\n",
      "CPU times: total: 9.67 s\n",
      "Wall time: 2min 18s\n"
     ]
    }
   ],
   "source": [
    "%%time\n",
    "test_dataset = MusicGenreDatasetWithPreprocess(\n",
    "    path_data=\"./data/test_unclean.csv.zip\",\n",
    "    embedder_model=word2vec_model,\n",
    "    embedder_type=\"gensim\",\n",
    "    max_seq_length=512,\n",
    "    input_type=\"unclean\",\n",
    "    store_processed=True,\n",
    "    output_dir=\"./data/W2V\",\n",
    ")"
   ]
  }
 ],
 "metadata": {
  "kernelspec": {
   "display_name": "base",
   "language": "python",
   "name": "python3"
  },
  "language_info": {
   "codemirror_mode": {
    "name": "ipython",
    "version": 3
   },
   "file_extension": ".py",
   "mimetype": "text/x-python",
   "name": "python",
   "nbconvert_exporter": "python",
   "pygments_lexer": "ipython3",
   "version": "3.11.7"
  }
 },
 "nbformat": 4,
 "nbformat_minor": 2
}
