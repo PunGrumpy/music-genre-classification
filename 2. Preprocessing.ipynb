{
 "cells": [
  {
   "cell_type": "code",
   "execution_count": 1,
   "metadata": {},
   "outputs": [],
   "source": [
    "import gensim.downloader as api\n",
    "\n",
    "from tqdm import tqdm\n",
    "from transformers import AutoTokenizer\n",
    "from src.MusicGenreDataset import MusicGenreDatasetWithPreprocess"
   ]
  },
  {
   "cell_type": "markdown",
   "metadata": {},
   "source": [
    "# BERT Preprocessing\n"
   ]
  },
  {
   "cell_type": "code",
   "execution_count": 2,
   "metadata": {},
   "outputs": [],
   "source": [
    "model_name = \"distilbert-base-uncased\"\n",
    "bert_model = AutoTokenizer.from_pretrained(model_name)"
   ]
  },
  {
   "cell_type": "code",
   "execution_count": 3,
   "metadata": {},
   "outputs": [
    {
     "name": "stdout",
     "output_type": "stream",
     "text": [
      "CPU times: total: 2 s\n",
      "Wall time: 8.48 s\n"
     ]
    }
   ],
   "source": [
    "%%time\n",
    "train_dataset = MusicGenreDatasetWithPreprocess(\n",
    "    path_data=\"./data/train_unclean.csv.zip\",\n",
    "    embedder_model=bert_model,\n",
    "    embedder_type=\"bert\",\n",
    "    max_seq_length=512,\n",
    "    input_type=\"unclean\",\n",
    "    store_processed=True,\n",
    "    output_dir=\"./data/BERT\",\n",
    ")\n"
   ]
  },
  {
   "cell_type": "code",
   "execution_count": 4,
   "metadata": {},
   "outputs": [
    {
     "name": "stdout",
     "output_type": "stream",
     "text": [
      "CPU times: total: 734 ms\n",
      "Wall time: 15.4 s\n"
     ]
    }
   ],
   "source": [
    "%%time\n",
    "val_dataset = MusicGenreDatasetWithPreprocess(\n",
    "    path_data=\"./data/val_unclean.csv.zip\",\n",
    "    embedder_model=bert_model,\n",
    "    embedder_type=\"bert\",\n",
    "    max_seq_length=512,\n",
    "    input_type=\"unclean\",\n",
    "    store_processed=True,\n",
    "    output_dir=\"./data/BERT\",\n",
    ")"
   ]
  },
  {
   "cell_type": "code",
   "execution_count": 5,
   "metadata": {},
   "outputs": [
    {
     "name": "stdout",
     "output_type": "stream",
     "text": [
      "CPU times: total: 953 ms\n",
      "Wall time: 16.7 s\n"
     ]
    }
   ],
   "source": [
    "%%time\n",
    "test_dataset = MusicGenreDatasetWithPreprocess(\n",
    "    path_data=\"./data/test_unclean.csv.zip\",\n",
    "    embedder_model=bert_model,\n",
    "    embedder_type=\"bert\",\n",
    "    max_seq_length=512,\n",
    "    input_type=\"unclean\",\n",
    "    store_processed=True,\n",
    "    output_dir=\"./data/BERT\",\n",
    ")"
   ]
  },
  {
   "cell_type": "markdown",
   "metadata": {},
   "source": [
    "# Word2Vec Preprocessing\n"
   ]
  },
  {
   "cell_type": "code",
   "execution_count": 6,
   "metadata": {},
   "outputs": [],
   "source": [
    "model_name = \"word2vec-google-news-300\"\n",
    "word2vec_model = api.load(model_name)"
   ]
  },
  {
   "cell_type": "code",
   "execution_count": 7,
   "metadata": {},
   "outputs": [
    {
     "name": "stdout",
     "output_type": "stream",
     "text": [
      "CPU times: total: 7.81 s\n",
      "Wall time: 1min 5s\n"
     ]
    }
   ],
   "source": [
    "%%time\n",
    "train_dataset = MusicGenreDatasetWithPreprocess(\n",
    "    path_data=\"./data/train_unclean.csv.zip\",\n",
    "    embedder_model=word2vec_model,\n",
    "    embedder_type=\"gensim\",\n",
    "    max_seq_length=512,\n",
    "    input_type=\"unclean\",\n",
    "    store_processed=True,\n",
    "    output_dir=\"./data/W2V\",\n",
    ")"
   ]
  },
  {
   "cell_type": "code",
   "execution_count": 8,
   "metadata": {},
   "outputs": [
    {
     "name": "stdout",
     "output_type": "stream",
     "text": [
      "CPU times: total: 22.3 s\n",
      "Wall time: 2min 25s\n"
     ]
    }
   ],
   "source": [
    "%%time\n",
    "val_dataset = MusicGenreDatasetWithPreprocess(\n",
    "    path_data=\"./data/val_unclean.csv.zip\",\n",
    "    embedder_model=word2vec_model,\n",
    "    embedder_type=\"gensim\",\n",
    "    max_seq_length=512,\n",
    "    input_type=\"unclean\",\n",
    "    store_processed=True,\n",
    "    output_dir=\"./data/W2V\",\n",
    ")"
   ]
  },
  {
   "cell_type": "code",
   "execution_count": 9,
   "metadata": {},
   "outputs": [
    {
     "name": "stdout",
     "output_type": "stream",
     "text": [
      "CPU times: total: 26 s\n",
      "Wall time: 2min 33s\n"
     ]
    }
   ],
   "source": [
    "%%time\n",
    "test_dataset = MusicGenreDatasetWithPreprocess(\n",
    "    path_data=\"./data/test_unclean.csv.zip\",\n",
    "    embedder_model=word2vec_model,\n",
    "    embedder_type=\"gensim\",\n",
    "    max_seq_length=512,\n",
    "    input_type=\"unclean\",\n",
    "    store_processed=True,\n",
    "    output_dir=\"./data/W2V\",\n",
    ")"
   ]
  }
 ],
 "metadata": {
  "kernelspec": {
   "display_name": "base",
   "language": "python",
   "name": "python3"
  },
  "language_info": {
   "codemirror_mode": {
    "name": "ipython",
    "version": 3
   },
   "file_extension": ".py",
   "mimetype": "text/x-python",
   "name": "python",
   "nbconvert_exporter": "python",
   "pygments_lexer": "ipython3",
   "version": "3.11.7"
  }
 },
 "nbformat": 4,
 "nbformat_minor": 2
}
