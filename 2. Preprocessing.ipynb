{
 "cells": [
  {
   "cell_type": "code",
   "execution_count": 1,
   "metadata": {},
   "outputs": [],
   "source": [
    "import gensim.downloader as api\n",
    "\n",
    "from tqdm import tqdm\n",
    "from transformers import AutoTokenizer\n",
    "from src.MusicGenreDataset import MusicGenreDatasetWithPreprocess"
   ]
  },
  {
   "cell_type": "markdown",
   "metadata": {},
   "source": [
    "# BERT Preprocessing\n"
   ]
  },
  {
   "cell_type": "code",
   "execution_count": 2,
   "metadata": {},
   "outputs": [
    {
     "data": {
      "application/vnd.jupyter.widget-view+json": {
       "model_id": "10737085e3664adba73e6a26c717b446",
       "version_major": 2,
       "version_minor": 0
      },
      "text/plain": [
       "Downloading tokenizer_config.json:   0%|          | 0.00/28.0 [00:00<?, ?B/s]"
      ]
     },
     "metadata": {},
     "output_type": "display_data"
    },
    {
     "data": {
      "application/vnd.jupyter.widget-view+json": {
       "model_id": "f1756586c06846b3ba1952ba9438668d",
       "version_major": 2,
       "version_minor": 0
      },
      "text/plain": [
       "Downloading config.json:   0%|          | 0.00/483 [00:00<?, ?B/s]"
      ]
     },
     "metadata": {},
     "output_type": "display_data"
    },
    {
     "data": {
      "application/vnd.jupyter.widget-view+json": {
       "model_id": "c2178addefd34952866c1990bf5aea3f",
       "version_major": 2,
       "version_minor": 0
      },
      "text/plain": [
       "Downloading vocab.txt:   0%|          | 0.00/232k [00:00<?, ?B/s]"
      ]
     },
     "metadata": {},
     "output_type": "display_data"
    },
    {
     "data": {
      "application/vnd.jupyter.widget-view+json": {
       "model_id": "7cbf4f6645ce45e69f4d3090c0b8dc3e",
       "version_major": 2,
       "version_minor": 0
      },
      "text/plain": [
       "Downloading tokenizer.json:   0%|          | 0.00/466k [00:00<?, ?B/s]"
      ]
     },
     "metadata": {},
     "output_type": "display_data"
    }
   ],
   "source": [
    "model_name = \"distilbert-base-uncased\"\n",
    "bert_model = AutoTokenizer.from_pretrained(model_name)"
   ]
  },
  {
   "cell_type": "code",
   "execution_count": 3,
   "metadata": {},
   "outputs": [
    {
     "name": "stdout",
     "output_type": "stream",
     "text": [
      "CPU times: user 10.4 s, sys: 80.2 ms, total: 10.5 s\n",
      "Wall time: 10.6 s\n"
     ]
    }
   ],
   "source": [
    "%%time\n",
    "train_dataset = MusicGenreDatasetWithPreprocess(\n",
    "    path_data=\"./data/train_unclean.csv.zip\",\n",
    "    embedder_model=bert_model,\n",
    "    embedder_type=\"bert\",\n",
    "    max_seq_length=512,\n",
    "    input_type=\"unclean\",\n",
    "    store_processed=True,\n",
    "    output_dir=\"./data/BERT\",\n",
    ")\n"
   ]
  },
  {
   "cell_type": "code",
   "execution_count": 4,
   "metadata": {},
   "outputs": [
    {
     "name": "stdout",
     "output_type": "stream",
     "text": [
      "CPU times: user 20.4 s, sys: 51.7 ms, total: 20.5 s\n",
      "Wall time: 20.5 s\n"
     ]
    }
   ],
   "source": [
    "%%time\n",
    "val_dataset = MusicGenreDatasetWithPreprocess(\n",
    "    path_data=\"./data/val_unclean.csv.zip\",\n",
    "    embedder_model=bert_model,\n",
    "    embedder_type=\"bert\",\n",
    "    max_seq_length=512,\n",
    "    input_type=\"unclean\",\n",
    "    store_processed=True,\n",
    "    output_dir=\"./data/BERT\",\n",
    ")"
   ]
  },
  {
   "cell_type": "code",
   "execution_count": 5,
   "metadata": {},
   "outputs": [
    {
     "name": "stdout",
     "output_type": "stream",
     "text": [
      "CPU times: user 21.1 s, sys: 71.8 ms, total: 21.2 s\n",
      "Wall time: 21.2 s\n"
     ]
    }
   ],
   "source": [
    "%%time\n",
    "test_dataset = MusicGenreDatasetWithPreprocess(\n",
    "    path_data=\"./data/test_unclean.csv.zip\",\n",
    "    embedder_model=bert_model,\n",
    "    embedder_type=\"bert\",\n",
    "    max_seq_length=512,\n",
    "    input_type=\"unclean\",\n",
    "    store_processed=True,\n",
    "    output_dir=\"./data/BERT\",\n",
    ")"
   ]
  },
  {
   "cell_type": "markdown",
   "metadata": {},
   "source": [
    "# Word2Vec Preprocessing\n"
   ]
  },
  {
   "cell_type": "code",
   "execution_count": 6,
   "metadata": {},
   "outputs": [
    {
     "name": "stdout",
     "output_type": "stream",
     "text": [
      "[==================================================] 100.0% 1662.8/1662.8MB downloaded\n"
     ]
    }
   ],
   "source": [
    "model_name = \"word2vec-google-news-300\"\n",
    "word2vec_model = api.load(model_name)"
   ]
  },
  {
   "cell_type": "code",
   "execution_count": 7,
   "metadata": {},
   "outputs": [
    {
     "name": "stdout",
     "output_type": "stream",
     "text": [
      "CPU times: user 1min 24s, sys: 161 ms, total: 1min 24s\n",
      "Wall time: 1min 24s\n"
     ]
    }
   ],
   "source": [
    "%%time\n",
    "train_dataset = MusicGenreDatasetWithPreprocess(\n",
    "    path_data=\"./data/train_unclean.csv.zip\",\n",
    "    embedder_model=word2vec_model,\n",
    "    embedder_type=\"gensim\",\n",
    "    max_seq_length=512,\n",
    "    input_type=\"unclean\",\n",
    "    store_processed=True,\n",
    "    output_dir=\"./data/W2V\",\n",
    ")"
   ]
  },
  {
   "cell_type": "code",
   "execution_count": 8,
   "metadata": {},
   "outputs": [
    {
     "name": "stdout",
     "output_type": "stream",
     "text": [
      "CPU times: user 2min 46s, sys: 451 ms, total: 2min 47s\n",
      "Wall time: 2min 47s\n"
     ]
    }
   ],
   "source": [
    "%%time\n",
    "val_dataset = MusicGenreDatasetWithPreprocess(\n",
    "    path_data=\"./data/val_unclean.csv.zip\",\n",
    "    embedder_model=word2vec_model,\n",
    "    embedder_type=\"gensim\",\n",
    "    max_seq_length=512,\n",
    "    input_type=\"unclean\",\n",
    "    store_processed=True,\n",
    "    output_dir=\"./data/W2V\",\n",
    ")"
   ]
  },
  {
   "cell_type": "code",
   "execution_count": 9,
   "metadata": {},
   "outputs": [
    {
     "name": "stdout",
     "output_type": "stream",
     "text": [
      "CPU times: user 3min 4s, sys: 777 ms, total: 3min 5s\n",
      "Wall time: 3min 5s\n"
     ]
    }
   ],
   "source": [
    "%%time\n",
    "test_dataset = MusicGenreDatasetWithPreprocess(\n",
    "    path_data=\"./data/test_unclean.csv.zip\",\n",
    "    embedder_model=word2vec_model,\n",
    "    embedder_type=\"gensim\",\n",
    "    max_seq_length=512,\n",
    "    input_type=\"unclean\",\n",
    "    store_processed=True,\n",
    "    output_dir=\"./data/W2V\",\n",
    ")"
   ]
  }
 ],
 "metadata": {
  "kernelspec": {
   "display_name": "base",
   "language": "python",
   "name": "python3"
  },
  "language_info": {
   "codemirror_mode": {
    "name": "ipython",
    "version": 3
   },
   "file_extension": ".py",
   "mimetype": "text/x-python",
   "name": "python",
   "nbconvert_exporter": "python",
   "pygments_lexer": "ipython3",
   "version": "3.11.7"
  }
 },
 "nbformat": 4,
 "nbformat_minor": 2
}
