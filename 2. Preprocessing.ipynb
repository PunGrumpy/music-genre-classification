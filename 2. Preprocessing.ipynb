{
 "cells": [
  {
   "cell_type": "code",
   "execution_count": 1,
   "metadata": {},
   "outputs": [],
   "source": [
    "import os\n",
    "import pandas as pd\n",
    "from transformers import AutoTokenizer\n",
    "from src.MusicGenreDataset import MusicGenreDatasetWithPreprocess"
   ]
  },
  {
   "cell_type": "markdown",
   "metadata": {},
   "source": [
    "# BERT Preprocessing\n"
   ]
  },
  {
   "cell_type": "code",
   "execution_count": 2,
   "metadata": {},
   "outputs": [],
   "source": [
    "model_name = \"distilbert-base-uncased\"\n",
    "bertTokenizer = AutoTokenizer.from_pretrained(model_name)"
   ]
  },
  {
   "cell_type": "code",
   "execution_count": 3,
   "metadata": {},
   "outputs": [
    {
     "name": "stdout",
     "output_type": "stream",
     "text": [
      "Store processed data is activated. Saving processed data to data/processed ...\n",
      "Preprocessing done. Saving to ids_24-02-25_154005.csv.zip ...\n",
      "CPU times: user 6.89 s, sys: 0 ns, total: 6.89 s\n",
      "Wall time: 6.89 s\n"
     ]
    }
   ],
   "source": [
    "%%time\n",
    "train_dataset = MusicGenreDatasetWithPreprocess(\n",
    "    path_data=\"./data/train_unclean.csv.zip\",\n",
    "    embedder_model=bertTokenizer,\n",
    "    embedder_type=\"bert\",\n",
    "    max_seq_length=512,\n",
    "    input_type=\"unclean\",\n",
    "    store_processed=True,\n",
    "    output_dir=\"./data/processed\",\n",
    ")\n"
   ]
  },
  {
   "cell_type": "code",
   "execution_count": 4,
   "metadata": {},
   "outputs": [
    {
     "name": "stdout",
     "output_type": "stream",
     "text": [
      "Store processed data is activated. Saving processed data to data/processed ...\n",
      "Preprocessing done. Saving to ids_24-02-25_154019.csv.zip ...\n",
      "CPU times: user 13.3 s, sys: 19.4 ms, total: 13.3 s\n",
      "Wall time: 13.3 s\n"
     ]
    }
   ],
   "source": [
    "%%time\n",
    "val_dataset = MusicGenreDatasetWithPreprocess(\n",
    "    path_data=\"./data/val_unclean.csv.zip\",\n",
    "    embedder_model=bertTokenizer,\n",
    "    embedder_type=\"bert\",\n",
    "    max_seq_length=512,\n",
    "    input_type=\"unclean\",\n",
    "    store_processed=True,\n",
    "    output_dir=\"./data/processed\",\n",
    ")"
   ]
  },
  {
   "cell_type": "code",
   "execution_count": 5,
   "metadata": {},
   "outputs": [
    {
     "name": "stdout",
     "output_type": "stream",
     "text": [
      "Store processed data is activated. Saving processed data to data/processed ...\n",
      "Preprocessing done. Saving to ids_24-02-25_154033.csv.zip ...\n",
      "CPU times: user 14.2 s, sys: 59.8 ms, total: 14.3 s\n",
      "Wall time: 14.3 s\n"
     ]
    }
   ],
   "source": [
    "%%time\n",
    "test_dataset = MusicGenreDatasetWithPreprocess(\n",
    "    path_data=\"./data/test_unclean.csv.zip\",\n",
    "    embedder_model=bertTokenizer,\n",
    "    embedder_type=\"bert\",\n",
    "    max_seq_length=512,\n",
    "    input_type=\"unclean\",\n",
    "    store_processed=True,\n",
    "    output_dir=\"./data/processed\",\n",
    ")"
   ]
  },
  {
   "cell_type": "code",
   "execution_count": null,
   "metadata": {},
   "outputs": [],
   "source": []
  }
 ],
 "metadata": {
  "kernelspec": {
   "display_name": "base",
   "language": "python",
   "name": "python3"
  },
  "language_info": {
   "codemirror_mode": {
    "name": "ipython",
    "version": 3
   },
   "file_extension": ".py",
   "mimetype": "text/x-python",
   "name": "python",
   "nbconvert_exporter": "python",
   "pygments_lexer": "ipython3",
   "version": "3.11.5"
  }
 },
 "nbformat": 4,
 "nbformat_minor": 2
}
