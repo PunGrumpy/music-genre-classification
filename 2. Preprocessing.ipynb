{
 "cells": [
  {
   "cell_type": "code",
   "execution_count": 1,
   "metadata": {},
   "outputs": [],
   "source": [
    "import os\n",
    "import pandas as pd\n",
    "\n",
    "from src.MusicGenreDataset import MusicGenreDatasetWithPreprocess"
   ]
  },
  {
   "cell_type": "markdown",
   "metadata": {},
   "source": [
    "# BERT Preprocessing\n"
   ]
  },
  {
   "cell_type": "code",
   "execution_count": 2,
   "metadata": {},
   "outputs": [
    {
     "name": "stderr",
     "output_type": "stream",
     "text": [
      "c:\\Users\\grumpy\\anaconda3\\envs\\nlp\\Lib\\site-packages\\tqdm\\auto.py:21: TqdmWarning: IProgress not found. Please update jupyter and ipywidgets. See https://ipywidgets.readthedocs.io/en/stable/user_install.html\n",
      "  from .autonotebook import tqdm as notebook_tqdm\n"
     ]
    }
   ],
   "source": [
    "from transformers import AutoTokenizer\n",
    "\n",
    "model_name = \"distilbert-base-uncased\"\n",
    "bert_model = AutoTokenizer.from_pretrained(model_name)"
   ]
  },
  {
   "cell_type": "code",
   "execution_count": 3,
   "metadata": {},
   "outputs": [
    {
     "name": "stdout",
     "output_type": "stream",
     "text": [
      "Store processed data is activated. Saving processed data to d:\\NLP\\music-genre-classification\\data\\BERT ...\n",
      "Preprocessing done. Saving to d:\\NLP\\music-genre-classification\\data\\BERT\\ids_24-02-26_162633.csv.zip ...\n",
      "CPU times: total: 1.69 s\n",
      "Wall time: 8.52 s\n"
     ]
    }
   ],
   "source": [
    "%%time\n",
    "train_dataset = MusicGenreDatasetWithPreprocess(\n",
    "    path_data=\"./data/train_unclean.csv.zip\",\n",
    "    embedder_model=bert_model,\n",
    "    embedder_type=\"bert\",\n",
    "    max_seq_length=512,\n",
    "    input_type=\"unclean\",\n",
    "    store_processed=True,\n",
    "    output_dir=\"./data/BERT\",\n",
    ")\n"
   ]
  },
  {
   "cell_type": "code",
   "execution_count": 4,
   "metadata": {},
   "outputs": [
    {
     "name": "stdout",
     "output_type": "stream",
     "text": [
      "Store processed data is activated. Saving processed data to d:\\NLP\\music-genre-classification\\data\\BERT ...\n",
      "Preprocessing done. Saving to d:\\NLP\\music-genre-classification\\data\\BERT\\ids_24-02-26_162649.csv.zip ...\n",
      "CPU times: total: 3.48 s\n",
      "Wall time: 15.7 s\n"
     ]
    }
   ],
   "source": [
    "%%time\n",
    "val_dataset = MusicGenreDatasetWithPreprocess(\n",
    "    path_data=\"./data/val_unclean.csv.zip\",\n",
    "    embedder_model=bert_model,\n",
    "    embedder_type=\"bert\",\n",
    "    max_seq_length=512,\n",
    "    input_type=\"unclean\",\n",
    "    store_processed=True,\n",
    "    output_dir=\"./data/BERT\",\n",
    ")"
   ]
  },
  {
   "cell_type": "code",
   "execution_count": 5,
   "metadata": {},
   "outputs": [
    {
     "name": "stdout",
     "output_type": "stream",
     "text": [
      "Store processed data is activated. Saving processed data to d:\\NLP\\music-genre-classification\\data\\BERT ...\n",
      "Preprocessing done. Saving to d:\\NLP\\music-genre-classification\\data\\BERT\\ids_24-02-26_162709.csv.zip ...\n",
      "CPU times: total: 3.38 s\n",
      "Wall time: 20.4 s\n"
     ]
    }
   ],
   "source": [
    "%%time\n",
    "test_dataset = MusicGenreDatasetWithPreprocess(\n",
    "    path_data=\"./data/test_unclean.csv.zip\",\n",
    "    embedder_model=bert_model,\n",
    "    embedder_type=\"bert\",\n",
    "    max_seq_length=512,\n",
    "    input_type=\"unclean\",\n",
    "    store_processed=True,\n",
    "    output_dir=\"./data/BERT\",\n",
    ")"
   ]
  },
  {
   "cell_type": "markdown",
   "metadata": {},
   "source": [
    "# Word2Vec Preprocessing\n"
   ]
  },
  {
   "cell_type": "code",
   "execution_count": null,
   "metadata": {},
   "outputs": [],
   "source": [
    "%pip install gensim"
   ]
  },
  {
   "cell_type": "code",
   "execution_count": 6,
   "metadata": {},
   "outputs": [
    {
     "ename": "ModuleNotFoundError",
     "evalue": "No module named 'gensim'",
     "output_type": "error",
     "traceback": [
      "\u001b[1;31m---------------------------------------------------------------------------\u001b[0m",
      "\u001b[1;31mModuleNotFoundError\u001b[0m                       Traceback (most recent call last)",
      "Cell \u001b[1;32mIn[6], line 1\u001b[0m\n\u001b[1;32m----> 1\u001b[0m \u001b[38;5;28;01mimport\u001b[39;00m \u001b[38;5;21;01mgensim\u001b[39;00m\u001b[38;5;21;01m.\u001b[39;00m\u001b[38;5;21;01mdownloader\u001b[39;00m \u001b[38;5;28;01mas\u001b[39;00m \u001b[38;5;21;01mapi\u001b[39;00m\n\u001b[0;32m      3\u001b[0m model_name \u001b[38;5;241m=\u001b[39m \u001b[38;5;124m\"\u001b[39m\u001b[38;5;124mword2vec-google-news-300\u001b[39m\u001b[38;5;124m\"\u001b[39m\n\u001b[0;32m      4\u001b[0m word2vec_model \u001b[38;5;241m=\u001b[39m api\u001b[38;5;241m.\u001b[39mload(model_name)\n",
      "\u001b[1;31mModuleNotFoundError\u001b[0m: No module named 'gensim'"
     ]
    }
   ],
   "source": [
    "import gensim.downloader as api\n",
    "\n",
    "model_name = \"word2vec-google-news-300\"\n",
    "word2vec_model = api.load(model_name)"
   ]
  },
  {
   "cell_type": "code",
   "execution_count": null,
   "metadata": {},
   "outputs": [
    {
     "name": "stdout",
     "output_type": "stream",
     "text": [
      "Store processed data is activated. Saving processed data to /home/mephisto/Developments/music-genre-classification/data/W2V ...\n",
      "Preprocessing done. Saving to ids_24-02-25_200955.csv.zip ...\n",
      "CPU times: user 48 s, sys: 290 ms, total: 48.3 s\n",
      "Wall time: 48.4 s\n"
     ]
    }
   ],
   "source": [
    "%%time\n",
    "train_dataset = MusicGenreDatasetWithPreprocess(\n",
    "    path_data=\"./data/train_unclean.csv.zip\",\n",
    "    embedder_model=word2vec_model,\n",
    "    embedder_type=\"gensim\",\n",
    "    max_seq_length=512,\n",
    "    input_type=\"unclean\",\n",
    "    store_processed=True,\n",
    "    output_dir=\"./data/W2V\",\n",
    ")"
   ]
  },
  {
   "cell_type": "code",
   "execution_count": null,
   "metadata": {},
   "outputs": [
    {
     "name": "stdout",
     "output_type": "stream",
     "text": [
      "Store processed data is activated. Saving processed data to /home/mephisto/Developments/music-genre-classification/data/W2V ...\n",
      "Preprocessing done. Saving to ids_24-02-25_201048.csv.zip ...\n",
      "CPU times: user 1min 38s, sys: 320 ms, total: 1min 39s\n",
      "Wall time: 1min 39s\n"
     ]
    }
   ],
   "source": [
    "%%time\n",
    "val_dataset = MusicGenreDatasetWithPreprocess(\n",
    "    path_data=\"./data/val_unclean.csv.zip\",\n",
    "    embedder_model=word2vec_model,\n",
    "    embedder_type=\"gensim\",\n",
    "    max_seq_length=512,\n",
    "    input_type=\"unclean\",\n",
    "    store_processed=True,\n",
    "    output_dir=\"./data/W2V\",\n",
    ")"
   ]
  },
  {
   "cell_type": "code",
   "execution_count": null,
   "metadata": {},
   "outputs": [
    {
     "name": "stdout",
     "output_type": "stream",
     "text": [
      "Store processed data is activated. Saving processed data to /home/mephisto/Developments/music-genre-classification/data/W2V ...\n",
      "Preprocessing done. Saving to ids_24-02-25_201228.csv.zip ...\n",
      "CPU times: user 1min 46s, sys: 450 ms, total: 1min 46s\n",
      "Wall time: 1min 46s\n"
     ]
    }
   ],
   "source": [
    "%%time\n",
    "test_dataset = MusicGenreDatasetWithPreprocess(\n",
    "    path_data=\"./data/test_unclean.csv.zip\",\n",
    "    embedder_model=word2vec_model,\n",
    "    embedder_type=\"gensim\",\n",
    "    max_seq_length=512,\n",
    "    input_type=\"unclean\",\n",
    "    store_processed=True,\n",
    "    output_dir=\"./data/W2V\",\n",
    ")"
   ]
  }
 ],
 "metadata": {
  "kernelspec": {
   "display_name": "base",
   "language": "python",
   "name": "python3"
  },
  "language_info": {
   "codemirror_mode": {
    "name": "ipython",
    "version": 3
   },
   "file_extension": ".py",
   "mimetype": "text/x-python",
   "name": "python",
   "nbconvert_exporter": "python",
   "pygments_lexer": "ipython3",
   "version": "3.11.5"
  }
 },
 "nbformat": 4,
 "nbformat_minor": 2
}
