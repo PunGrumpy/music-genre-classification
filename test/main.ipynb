{
 "cells": [
  {
   "cell_type": "code",
   "execution_count": 1,
   "metadata": {},
   "outputs": [],
   "source": [
    "import pandas as pd"
   ]
  },
  {
   "cell_type": "markdown",
   "metadata": {},
   "source": [
    "# Data Cleaned\n"
   ]
  },
  {
   "cell_type": "code",
   "execution_count": 2,
   "metadata": {},
   "outputs": [
    {
     "name": "stdout",
     "output_type": "stream",
     "text": [
      "<class 'pandas.core.frame.DataFrame'>\n",
      "RangeIndex: 500 entries, 0 to 499\n",
      "Data columns (total 15 columns):\n",
      " #   Column             Non-Null Count  Dtype  \n",
      "---  ------             --------------  -----  \n",
      " 0   Unnamed: 0         500 non-null    int64  \n",
      " 1   playlist_genre     500 non-null    object \n",
      " 2   playlist_genre_id  500 non-null    int64  \n",
      " 3   lyrics             500 non-null    object \n",
      " 4   acousticness       500 non-null    float64\n",
      " 5   danceability       500 non-null    float64\n",
      " 6   energy             500 non-null    float64\n",
      " 7   instrumentalness   500 non-null    float64\n",
      " 8   key                500 non-null    int64  \n",
      " 9   liveness           500 non-null    float64\n",
      " 10  loudness           500 non-null    float64\n",
      " 11  mode               500 non-null    int64  \n",
      " 12  speechiness        500 non-null    float64\n",
      " 13  tempo              500 non-null    float64\n",
      " 14  valence            500 non-null    float64\n",
      "dtypes: float64(9), int64(4), object(2)\n",
      "memory usage: 58.7+ KB\n"
     ]
    }
   ],
   "source": [
    "train_cleaned = pd.read_csv(\"../data/train_unclean.csv.zip\")\n",
    "\n",
    "train_cleaned.describe()\n",
    "train_cleaned.info()"
   ]
  },
  {
   "cell_type": "code",
   "execution_count": 3,
   "metadata": {},
   "outputs": [
    {
     "name": "stdout",
     "output_type": "stream",
     "text": [
      "<class 'pandas.core.frame.DataFrame'>\n",
      "RangeIndex: 1020 entries, 0 to 1019\n",
      "Data columns (total 15 columns):\n",
      " #   Column             Non-Null Count  Dtype  \n",
      "---  ------             --------------  -----  \n",
      " 0   Unnamed: 0         1020 non-null   int64  \n",
      " 1   playlist_genre     1020 non-null   object \n",
      " 2   playlist_genre_id  1020 non-null   int64  \n",
      " 3   lyrics             1020 non-null   object \n",
      " 4   acousticness       1020 non-null   float64\n",
      " 5   danceability       1020 non-null   float64\n",
      " 6   energy             1020 non-null   float64\n",
      " 7   instrumentalness   1020 non-null   float64\n",
      " 8   key                1020 non-null   int64  \n",
      " 9   liveness           1020 non-null   float64\n",
      " 10  loudness           1020 non-null   float64\n",
      " 11  mode               1020 non-null   int64  \n",
      " 12  speechiness        1020 non-null   float64\n",
      " 13  tempo              1020 non-null   float64\n",
      " 14  valence            1020 non-null   float64\n",
      "dtypes: float64(9), int64(4), object(2)\n",
      "memory usage: 119.7+ KB\n"
     ]
    }
   ],
   "source": [
    "val_cleaned = pd.read_csv(\"../data/val_unclean.csv.zip\")\n",
    "\n",
    "val_cleaned.describe()\n",
    "val_cleaned.info()"
   ]
  },
  {
   "cell_type": "code",
   "execution_count": 4,
   "metadata": {},
   "outputs": [
    {
     "name": "stdout",
     "output_type": "stream",
     "text": [
      "<class 'pandas.core.frame.DataFrame'>\n",
      "RangeIndex: 1134 entries, 0 to 1133\n",
      "Data columns (total 15 columns):\n",
      " #   Column             Non-Null Count  Dtype  \n",
      "---  ------             --------------  -----  \n",
      " 0   Unnamed: 0         1134 non-null   int64  \n",
      " 1   playlist_genre     1134 non-null   object \n",
      " 2   playlist_genre_id  1134 non-null   int64  \n",
      " 3   lyrics             1134 non-null   object \n",
      " 4   acousticness       1134 non-null   float64\n",
      " 5   danceability       1134 non-null   float64\n",
      " 6   energy             1134 non-null   float64\n",
      " 7   instrumentalness   1134 non-null   float64\n",
      " 8   key                1134 non-null   int64  \n",
      " 9   liveness           1134 non-null   float64\n",
      " 10  loudness           1134 non-null   float64\n",
      " 11  mode               1134 non-null   int64  \n",
      " 12  speechiness        1134 non-null   float64\n",
      " 13  tempo              1134 non-null   float64\n",
      " 14  valence            1134 non-null   float64\n",
      "dtypes: float64(9), int64(4), object(2)\n",
      "memory usage: 133.0+ KB\n"
     ]
    }
   ],
   "source": [
    "test_cleaned = pd.read_csv(\"../data/test_unclean.csv.zip\")\n",
    "\n",
    "test_cleaned.describe()\n",
    "test_cleaned.info()"
   ]
  },
  {
   "cell_type": "markdown",
   "metadata": {},
   "source": [
    "# BERT Preprocessed\n"
   ]
  },
  {
   "cell_type": "code",
   "execution_count": 5,
   "metadata": {},
   "outputs": [
    {
     "name": "stdout",
     "output_type": "stream",
     "text": [
      "<class 'pandas.core.frame.DataFrame'>\n",
      "RangeIndex: 500 entries, 0 to 499\n",
      "Data columns (total 16 columns):\n",
      " #   Column             Non-Null Count  Dtype  \n",
      "---  ------             --------------  -----  \n",
      " 0   Unnamed: 0         500 non-null    int64  \n",
      " 1   lyrics             500 non-null    object \n",
      " 2   _lyrics            500 non-null    object \n",
      " 3   danceability       500 non-null    float64\n",
      " 4   energy             500 non-null    float64\n",
      " 5   key                500 non-null    int64  \n",
      " 6   loudness           500 non-null    float64\n",
      " 7   mode               500 non-null    int64  \n",
      " 8   speechiness        500 non-null    float64\n",
      " 9   acousticness       500 non-null    float64\n",
      " 10  instrumentalness   500 non-null    float64\n",
      " 11  liveness           500 non-null    float64\n",
      " 12  valence            500 non-null    float64\n",
      " 13  tempo              500 non-null    float64\n",
      " 14  playlist_genre     500 non-null    object \n",
      " 15  playlist_genre_id  500 non-null    int64  \n",
      "dtypes: float64(9), int64(4), object(3)\n",
      "memory usage: 62.6+ KB\n"
     ]
    }
   ],
   "source": [
    "bert_train = pd.read_csv(\"../data/BERT/bert_ids_train.csv.zip\")\n",
    "\n",
    "bert_train.describe()\n",
    "bert_train.info()"
   ]
  },
  {
   "cell_type": "code",
   "execution_count": 11,
   "metadata": {},
   "outputs": [],
   "source": [
    "from torch.utils.data import DataLoader"
   ]
  },
  {
   "cell_type": "code",
   "execution_count": 27,
   "metadata": {},
   "outputs": [],
   "source": [
    "bert_train_loader = DataLoader(bert_train, batch_size=32, shuffle=True)"
   ]
  },
  {
   "cell_type": "code",
   "execution_count": 28,
   "metadata": {},
   "outputs": [
    {
     "ename": "TypeError",
     "evalue": "'DataLoader' object is not subscriptable",
     "output_type": "error",
     "traceback": [
      "\u001b[0;31m---------------------------------------------------------------------------\u001b[0m",
      "\u001b[0;31mTypeError\u001b[0m                                 Traceback (most recent call last)",
      "Cell \u001b[0;32mIn[28], line 2\u001b[0m\n\u001b[1;32m      1\u001b[0m \u001b[38;5;28;01mfor\u001b[39;00m _, data \u001b[38;5;129;01min\u001b[39;00m \u001b[38;5;28menumerate\u001b[39m((bert_train, \u001b[38;5;241m0\u001b[39m)):\n\u001b[0;32m----> 2\u001b[0m     ids \u001b[38;5;241m=\u001b[39m data[\u001b[38;5;124m'\u001b[39m\u001b[38;5;124mids\u001b[39m\u001b[38;5;124m'\u001b[39m]\n\u001b[1;32m      3\u001b[0m     \u001b[38;5;28mprint\u001b[39m(ids)\n",
      "\u001b[0;31mTypeError\u001b[0m: 'DataLoader' object is not subscriptable"
     ]
    }
   ],
   "source": [
    "for _, data in enumerate((bert_train_loader, 0)):\n",
    "    ids = data[\"ids\"]\n",
    "    print(ids)"
   ]
  },
  {
   "cell_type": "code",
   "execution_count": 6,
   "metadata": {},
   "outputs": [
    {
     "name": "stdout",
     "output_type": "stream",
     "text": [
      "<class 'pandas.core.frame.DataFrame'>\n",
      "RangeIndex: 1020 entries, 0 to 1019\n",
      "Data columns (total 16 columns):\n",
      " #   Column             Non-Null Count  Dtype  \n",
      "---  ------             --------------  -----  \n",
      " 0   Unnamed: 0         1020 non-null   int64  \n",
      " 1   lyrics             1020 non-null   object \n",
      " 2   _lyrics            1020 non-null   object \n",
      " 3   danceability       1020 non-null   float64\n",
      " 4   energy             1020 non-null   float64\n",
      " 5   key                1020 non-null   int64  \n",
      " 6   loudness           1020 non-null   float64\n",
      " 7   mode               1020 non-null   int64  \n",
      " 8   speechiness        1020 non-null   float64\n",
      " 9   acousticness       1020 non-null   float64\n",
      " 10  instrumentalness   1020 non-null   float64\n",
      " 11  liveness           1020 non-null   float64\n",
      " 12  valence            1020 non-null   float64\n",
      " 13  tempo              1020 non-null   float64\n",
      " 14  playlist_genre     1020 non-null   object \n",
      " 15  playlist_genre_id  1020 non-null   int64  \n",
      "dtypes: float64(9), int64(4), object(3)\n",
      "memory usage: 127.6+ KB\n"
     ]
    }
   ],
   "source": [
    "bert_val = pd.read_csv(\"../data/BERT/bert_ids_val.csv.zip\")\n",
    "\n",
    "bert_val.describe()\n",
    "bert_val.info()"
   ]
  },
  {
   "cell_type": "code",
   "execution_count": 7,
   "metadata": {},
   "outputs": [
    {
     "name": "stdout",
     "output_type": "stream",
     "text": [
      "<class 'pandas.core.frame.DataFrame'>\n",
      "RangeIndex: 1134 entries, 0 to 1133\n",
      "Data columns (total 16 columns):\n",
      " #   Column             Non-Null Count  Dtype  \n",
      "---  ------             --------------  -----  \n",
      " 0   Unnamed: 0         1134 non-null   int64  \n",
      " 1   lyrics             1134 non-null   object \n",
      " 2   _lyrics            1134 non-null   object \n",
      " 3   danceability       1134 non-null   float64\n",
      " 4   energy             1134 non-null   float64\n",
      " 5   key                1134 non-null   int64  \n",
      " 6   loudness           1134 non-null   float64\n",
      " 7   mode               1134 non-null   int64  \n",
      " 8   speechiness        1134 non-null   float64\n",
      " 9   acousticness       1134 non-null   float64\n",
      " 10  instrumentalness   1134 non-null   float64\n",
      " 11  liveness           1134 non-null   float64\n",
      " 12  valence            1134 non-null   float64\n",
      " 13  tempo              1134 non-null   float64\n",
      " 14  playlist_genre     1134 non-null   object \n",
      " 15  playlist_genre_id  1134 non-null   int64  \n",
      "dtypes: float64(9), int64(4), object(3)\n",
      "memory usage: 141.9+ KB\n"
     ]
    }
   ],
   "source": [
    "bert_test = pd.read_csv(\"../data/BERT/bert_ids_test.csv.zip\")\n",
    "\n",
    "bert_test.describe()\n",
    "bert_test.info()"
   ]
  },
  {
   "cell_type": "markdown",
   "metadata": {},
   "source": [
    "# Word2Vec Preprocessed\n"
   ]
  },
  {
   "cell_type": "code",
   "execution_count": 8,
   "metadata": {},
   "outputs": [
    {
     "name": "stdout",
     "output_type": "stream",
     "text": [
      "<class 'pandas.core.frame.DataFrame'>\n",
      "RangeIndex: 500 entries, 0 to 499\n",
      "Data columns (total 16 columns):\n",
      " #   Column             Non-Null Count  Dtype  \n",
      "---  ------             --------------  -----  \n",
      " 0   Unnamed: 0         500 non-null    int64  \n",
      " 1   lyrics             500 non-null    object \n",
      " 2   _lyrics            500 non-null    object \n",
      " 3   danceability       500 non-null    float64\n",
      " 4   energy             500 non-null    float64\n",
      " 5   key                500 non-null    int64  \n",
      " 6   loudness           500 non-null    float64\n",
      " 7   mode               500 non-null    int64  \n",
      " 8   speechiness        500 non-null    float64\n",
      " 9   acousticness       500 non-null    float64\n",
      " 10  instrumentalness   500 non-null    float64\n",
      " 11  liveness           500 non-null    float64\n",
      " 12  valence            500 non-null    float64\n",
      " 13  tempo              500 non-null    float64\n",
      " 14  playlist_genre     500 non-null    object \n",
      " 15  playlist_genre_id  500 non-null    int64  \n",
      "dtypes: float64(9), int64(4), object(3)\n",
      "memory usage: 62.6+ KB\n"
     ]
    }
   ],
   "source": [
    "w2v_train = pd.read_csv(\"../data/W2V/w2v_ids_train.csv.zip\")\n",
    "\n",
    "w2v_train.describe()\n",
    "w2v_train.info()"
   ]
  },
  {
   "cell_type": "code",
   "execution_count": 9,
   "metadata": {},
   "outputs": [
    {
     "name": "stdout",
     "output_type": "stream",
     "text": [
      "<class 'pandas.core.frame.DataFrame'>\n",
      "RangeIndex: 1020 entries, 0 to 1019\n",
      "Data columns (total 16 columns):\n",
      " #   Column             Non-Null Count  Dtype  \n",
      "---  ------             --------------  -----  \n",
      " 0   Unnamed: 0         1020 non-null   int64  \n",
      " 1   lyrics             1020 non-null   object \n",
      " 2   _lyrics            1020 non-null   object \n",
      " 3   danceability       1020 non-null   float64\n",
      " 4   energy             1020 non-null   float64\n",
      " 5   key                1020 non-null   int64  \n",
      " 6   loudness           1020 non-null   float64\n",
      " 7   mode               1020 non-null   int64  \n",
      " 8   speechiness        1020 non-null   float64\n",
      " 9   acousticness       1020 non-null   float64\n",
      " 10  instrumentalness   1020 non-null   float64\n",
      " 11  liveness           1020 non-null   float64\n",
      " 12  valence            1020 non-null   float64\n",
      " 13  tempo              1020 non-null   float64\n",
      " 14  playlist_genre     1020 non-null   object \n",
      " 15  playlist_genre_id  1020 non-null   int64  \n",
      "dtypes: float64(9), int64(4), object(3)\n",
      "memory usage: 127.6+ KB\n"
     ]
    }
   ],
   "source": [
    "w2v_val = pd.read_csv(\"../data/W2V/w2v_ids_val.csv.zip\")\n",
    "\n",
    "w2v_val.describe()\n",
    "w2v_val.info()"
   ]
  },
  {
   "cell_type": "code",
   "execution_count": 10,
   "metadata": {},
   "outputs": [
    {
     "name": "stdout",
     "output_type": "stream",
     "text": [
      "<class 'pandas.core.frame.DataFrame'>\n",
      "RangeIndex: 1134 entries, 0 to 1133\n",
      "Data columns (total 16 columns):\n",
      " #   Column             Non-Null Count  Dtype  \n",
      "---  ------             --------------  -----  \n",
      " 0   Unnamed: 0         1134 non-null   int64  \n",
      " 1   lyrics             1134 non-null   object \n",
      " 2   _lyrics            1134 non-null   object \n",
      " 3   danceability       1134 non-null   float64\n",
      " 4   energy             1134 non-null   float64\n",
      " 5   key                1134 non-null   int64  \n",
      " 6   loudness           1134 non-null   float64\n",
      " 7   mode               1134 non-null   int64  \n",
      " 8   speechiness        1134 non-null   float64\n",
      " 9   acousticness       1134 non-null   float64\n",
      " 10  instrumentalness   1134 non-null   float64\n",
      " 11  liveness           1134 non-null   float64\n",
      " 12  valence            1134 non-null   float64\n",
      " 13  tempo              1134 non-null   float64\n",
      " 14  playlist_genre     1134 non-null   object \n",
      " 15  playlist_genre_id  1134 non-null   int64  \n",
      "dtypes: float64(9), int64(4), object(3)\n",
      "memory usage: 141.9+ KB\n"
     ]
    }
   ],
   "source": [
    "w2v_test = pd.read_csv(\"../data/W2V/w2v_ids_test.csv.zip\")\n",
    "\n",
    "w2v_test.describe()\n",
    "w2v_test.info()"
   ]
  }
 ],
 "metadata": {
  "kernelspec": {
   "display_name": "base",
   "language": "python",
   "name": "python3"
  },
  "language_info": {
   "codemirror_mode": {
    "name": "ipython",
    "version": 3
   },
   "file_extension": ".py",
   "mimetype": "text/x-python",
   "name": "python",
   "nbconvert_exporter": "python",
   "pygments_lexer": "ipython3",
   "version": "3.11.7"
  }
 },
 "nbformat": 4,
 "nbformat_minor": 2
}
