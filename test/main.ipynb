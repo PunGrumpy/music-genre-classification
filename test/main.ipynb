{
 "cells": [
  {
   "cell_type": "code",
   "execution_count": 1,
   "metadata": {},
   "outputs": [],
   "source": [
    "import pandas as pd"
   ]
  },
  {
   "cell_type": "markdown",
   "metadata": {},
   "source": [
    "# Data Cleaned\n"
   ]
  },
  {
   "cell_type": "code",
   "execution_count": 2,
   "metadata": {},
   "outputs": [
    {
     "name": "stdout",
     "output_type": "stream",
     "text": [
      "<class 'pandas.core.frame.DataFrame'>\n",
      "RangeIndex: 500 entries, 0 to 499\n",
      "Data columns (total 14 columns):\n",
      " #   Column             Non-Null Count  Dtype  \n",
      "---  ------             --------------  -----  \n",
      " 0   Unnamed: 0         500 non-null    int64  \n",
      " 1   playlist_genre     500 non-null    object \n",
      " 2   playlist_genre_id  500 non-null    int64  \n",
      " 3   lyrics             500 non-null    object \n",
      " 4   acousticness       500 non-null    float64\n",
      " 5   danceability       500 non-null    float64\n",
      " 6   energy             500 non-null    float64\n",
      " 7   instrumentalness   500 non-null    float64\n",
      " 8   key                500 non-null    int64  \n",
      " 9   liveness           500 non-null    float64\n",
      " 10  loudness           500 non-null    float64\n",
      " 11  speechiness        500 non-null    float64\n",
      " 12  tempo              500 non-null    float64\n",
      " 13  valence            500 non-null    float64\n",
      "dtypes: float64(9), int64(3), object(2)\n",
      "memory usage: 54.8+ KB\n"
     ]
    }
   ],
   "source": [
    "train_cleaned = pd.read_csv(\"../data/train_unclean.csv.zip\")\n",
    "\n",
    "train_cleaned.describe()\n",
    "train_cleaned.info()"
   ]
  },
  {
   "cell_type": "code",
   "execution_count": 3,
   "metadata": {},
   "outputs": [
    {
     "name": "stdout",
     "output_type": "stream",
     "text": [
      "<class 'pandas.core.frame.DataFrame'>\n",
      "RangeIndex: 1020 entries, 0 to 1019\n",
      "Data columns (total 14 columns):\n",
      " #   Column             Non-Null Count  Dtype  \n",
      "---  ------             --------------  -----  \n",
      " 0   Unnamed: 0         1020 non-null   int64  \n",
      " 1   playlist_genre     1020 non-null   object \n",
      " 2   playlist_genre_id  1020 non-null   int64  \n",
      " 3   lyrics             1020 non-null   object \n",
      " 4   acousticness       1020 non-null   float64\n",
      " 5   danceability       1020 non-null   float64\n",
      " 6   energy             1020 non-null   float64\n",
      " 7   instrumentalness   1020 non-null   float64\n",
      " 8   key                1020 non-null   int64  \n",
      " 9   liveness           1020 non-null   float64\n",
      " 10  loudness           1020 non-null   float64\n",
      " 11  speechiness        1020 non-null   float64\n",
      " 12  tempo              1020 non-null   float64\n",
      " 13  valence            1020 non-null   float64\n",
      "dtypes: float64(9), int64(3), object(2)\n",
      "memory usage: 111.7+ KB\n"
     ]
    }
   ],
   "source": [
    "val_cleaned = pd.read_csv(\"../data/val_unclean.csv.zip\")\n",
    "\n",
    "val_cleaned.describe()\n",
    "val_cleaned.info()"
   ]
  },
  {
   "cell_type": "code",
   "execution_count": 4,
   "metadata": {},
   "outputs": [
    {
     "name": "stdout",
     "output_type": "stream",
     "text": [
      "<class 'pandas.core.frame.DataFrame'>\n",
      "RangeIndex: 1134 entries, 0 to 1133\n",
      "Data columns (total 14 columns):\n",
      " #   Column             Non-Null Count  Dtype  \n",
      "---  ------             --------------  -----  \n",
      " 0   Unnamed: 0         1134 non-null   int64  \n",
      " 1   playlist_genre     1134 non-null   object \n",
      " 2   playlist_genre_id  1134 non-null   int64  \n",
      " 3   lyrics             1134 non-null   object \n",
      " 4   acousticness       1134 non-null   float64\n",
      " 5   danceability       1134 non-null   float64\n",
      " 6   energy             1134 non-null   float64\n",
      " 7   instrumentalness   1134 non-null   float64\n",
      " 8   key                1134 non-null   int64  \n",
      " 9   liveness           1134 non-null   float64\n",
      " 10  loudness           1134 non-null   float64\n",
      " 11  speechiness        1134 non-null   float64\n",
      " 12  tempo              1134 non-null   float64\n",
      " 13  valence            1134 non-null   float64\n",
      "dtypes: float64(9), int64(3), object(2)\n",
      "memory usage: 124.2+ KB\n"
     ]
    }
   ],
   "source": [
    "test_cleaned = pd.read_csv(\"../data/test_unclean.csv.zip\")\n",
    "\n",
    "test_cleaned.describe()\n",
    "test_cleaned.info()"
   ]
  },
  {
   "cell_type": "markdown",
   "metadata": {},
   "source": [
    "# BERT Preprocessed\n"
   ]
  },
  {
   "cell_type": "code",
   "execution_count": 5,
   "metadata": {},
   "outputs": [
    {
     "name": "stdout",
     "output_type": "stream",
     "text": [
      "<class 'pandas.core.frame.DataFrame'>\n",
      "RangeIndex: 500 entries, 0 to 499\n",
      "Data columns (total 15 columns):\n",
      " #   Column             Non-Null Count  Dtype  \n",
      "---  ------             --------------  -----  \n",
      " 0   Unnamed: 0         500 non-null    int64  \n",
      " 1   lyrics             500 non-null    object \n",
      " 2   _lyrics            500 non-null    object \n",
      " 3   playlist_genre     500 non-null    object \n",
      " 4   playlist_genre_id  500 non-null    int64  \n",
      " 5   danceability       500 non-null    float64\n",
      " 6   energy             500 non-null    float64\n",
      " 7   key                500 non-null    int64  \n",
      " 8   loudness           500 non-null    float64\n",
      " 9   speechiness        500 non-null    float64\n",
      " 10  acousticness       500 non-null    float64\n",
      " 11  instrumentalness   500 non-null    float64\n",
      " 12  liveness           500 non-null    float64\n",
      " 13  valence            500 non-null    float64\n",
      " 14  tempo              500 non-null    float64\n",
      "dtypes: float64(9), int64(3), object(3)\n",
      "memory usage: 58.7+ KB\n"
     ]
    }
   ],
   "source": [
    "bert_train = pd.read_csv(\"../data/BERT/bert_ids_train.csv.zip\")\n",
    "\n",
    "bert_train.describe()\n",
    "bert_train.info()"
   ]
  },
  {
   "cell_type": "code",
   "execution_count": 6,
   "metadata": {},
   "outputs": [
    {
     "name": "stdout",
     "output_type": "stream",
     "text": [
      "<class 'pandas.core.frame.DataFrame'>\n",
      "RangeIndex: 1020 entries, 0 to 1019\n",
      "Data columns (total 15 columns):\n",
      " #   Column             Non-Null Count  Dtype  \n",
      "---  ------             --------------  -----  \n",
      " 0   Unnamed: 0         1020 non-null   int64  \n",
      " 1   lyrics             1020 non-null   object \n",
      " 2   _lyrics            1020 non-null   object \n",
      " 3   playlist_genre     1020 non-null   object \n",
      " 4   playlist_genre_id  1020 non-null   int64  \n",
      " 5   danceability       1020 non-null   float64\n",
      " 6   energy             1020 non-null   float64\n",
      " 7   key                1020 non-null   int64  \n",
      " 8   loudness           1020 non-null   float64\n",
      " 9   speechiness        1020 non-null   float64\n",
      " 10  acousticness       1020 non-null   float64\n",
      " 11  instrumentalness   1020 non-null   float64\n",
      " 12  liveness           1020 non-null   float64\n",
      " 13  valence            1020 non-null   float64\n",
      " 14  tempo              1020 non-null   float64\n",
      "dtypes: float64(9), int64(3), object(3)\n",
      "memory usage: 119.7+ KB\n"
     ]
    }
   ],
   "source": [
    "bert_val = pd.read_csv(\"../data/BERT/bert_ids_val.csv.zip\")\n",
    "\n",
    "bert_val.describe()\n",
    "bert_val.info()"
   ]
  },
  {
   "cell_type": "code",
   "execution_count": 7,
   "metadata": {},
   "outputs": [
    {
     "name": "stdout",
     "output_type": "stream",
     "text": [
      "<class 'pandas.core.frame.DataFrame'>\n",
      "RangeIndex: 1134 entries, 0 to 1133\n",
      "Data columns (total 15 columns):\n",
      " #   Column             Non-Null Count  Dtype  \n",
      "---  ------             --------------  -----  \n",
      " 0   Unnamed: 0         1134 non-null   int64  \n",
      " 1   lyrics             1134 non-null   object \n",
      " 2   _lyrics            1134 non-null   object \n",
      " 3   playlist_genre     1134 non-null   object \n",
      " 4   playlist_genre_id  1134 non-null   int64  \n",
      " 5   danceability       1134 non-null   float64\n",
      " 6   energy             1134 non-null   float64\n",
      " 7   key                1134 non-null   int64  \n",
      " 8   loudness           1134 non-null   float64\n",
      " 9   speechiness        1134 non-null   float64\n",
      " 10  acousticness       1134 non-null   float64\n",
      " 11  instrumentalness   1134 non-null   float64\n",
      " 12  liveness           1134 non-null   float64\n",
      " 13  valence            1134 non-null   float64\n",
      " 14  tempo              1134 non-null   float64\n",
      "dtypes: float64(9), int64(3), object(3)\n",
      "memory usage: 133.0+ KB\n"
     ]
    }
   ],
   "source": [
    "bert_test = pd.read_csv(\"../data/BERT/bert_ids_test.csv.zip\")\n",
    "\n",
    "bert_test.describe()\n",
    "bert_test.info()"
   ]
  },
  {
   "cell_type": "markdown",
   "metadata": {},
   "source": [
    "# Word2Vec Preprocessed\n"
   ]
  },
  {
   "cell_type": "code",
   "execution_count": 8,
   "metadata": {},
   "outputs": [
    {
     "name": "stdout",
     "output_type": "stream",
     "text": [
      "<class 'pandas.core.frame.DataFrame'>\n",
      "RangeIndex: 500 entries, 0 to 499\n",
      "Data columns (total 15 columns):\n",
      " #   Column             Non-Null Count  Dtype  \n",
      "---  ------             --------------  -----  \n",
      " 0   Unnamed: 0         500 non-null    int64  \n",
      " 1   lyrics             500 non-null    object \n",
      " 2   _lyrics            500 non-null    object \n",
      " 3   playlist_genre     500 non-null    object \n",
      " 4   playlist_genre_id  500 non-null    int64  \n",
      " 5   danceability       500 non-null    float64\n",
      " 6   energy             500 non-null    float64\n",
      " 7   key                500 non-null    int64  \n",
      " 8   loudness           500 non-null    float64\n",
      " 9   speechiness        500 non-null    float64\n",
      " 10  acousticness       500 non-null    float64\n",
      " 11  instrumentalness   500 non-null    float64\n",
      " 12  liveness           500 non-null    float64\n",
      " 13  valence            500 non-null    float64\n",
      " 14  tempo              500 non-null    float64\n",
      "dtypes: float64(9), int64(3), object(3)\n",
      "memory usage: 58.7+ KB\n"
     ]
    }
   ],
   "source": [
    "w2v_train = pd.read_csv(\"../data/W2V/w2v_ids_train.csv.zip\")\n",
    "\n",
    "w2v_train.describe()\n",
    "w2v_train.info()"
   ]
  },
  {
   "cell_type": "code",
   "execution_count": 9,
   "metadata": {},
   "outputs": [
    {
     "name": "stdout",
     "output_type": "stream",
     "text": [
      "<class 'pandas.core.frame.DataFrame'>\n",
      "RangeIndex: 1020 entries, 0 to 1019\n",
      "Data columns (total 15 columns):\n",
      " #   Column             Non-Null Count  Dtype  \n",
      "---  ------             --------------  -----  \n",
      " 0   Unnamed: 0         1020 non-null   int64  \n",
      " 1   lyrics             1020 non-null   object \n",
      " 2   _lyrics            1020 non-null   object \n",
      " 3   playlist_genre     1020 non-null   object \n",
      " 4   playlist_genre_id  1020 non-null   int64  \n",
      " 5   danceability       1020 non-null   float64\n",
      " 6   energy             1020 non-null   float64\n",
      " 7   key                1020 non-null   int64  \n",
      " 8   loudness           1020 non-null   float64\n",
      " 9   speechiness        1020 non-null   float64\n",
      " 10  acousticness       1020 non-null   float64\n",
      " 11  instrumentalness   1020 non-null   float64\n",
      " 12  liveness           1020 non-null   float64\n",
      " 13  valence            1020 non-null   float64\n",
      " 14  tempo              1020 non-null   float64\n",
      "dtypes: float64(9), int64(3), object(3)\n",
      "memory usage: 119.7+ KB\n"
     ]
    }
   ],
   "source": [
    "w2v_val = pd.read_csv(\"../data/W2V/w2v_ids_val.csv.zip\")\n",
    "\n",
    "w2v_val.describe()\n",
    "w2v_val.info()"
   ]
  },
  {
   "cell_type": "code",
   "execution_count": 10,
   "metadata": {},
   "outputs": [
    {
     "name": "stdout",
     "output_type": "stream",
     "text": [
      "<class 'pandas.core.frame.DataFrame'>\n",
      "RangeIndex: 1134 entries, 0 to 1133\n",
      "Data columns (total 15 columns):\n",
      " #   Column             Non-Null Count  Dtype  \n",
      "---  ------             --------------  -----  \n",
      " 0   Unnamed: 0         1134 non-null   int64  \n",
      " 1   lyrics             1134 non-null   object \n",
      " 2   _lyrics            1134 non-null   object \n",
      " 3   playlist_genre     1134 non-null   object \n",
      " 4   playlist_genre_id  1134 non-null   int64  \n",
      " 5   danceability       1134 non-null   float64\n",
      " 6   energy             1134 non-null   float64\n",
      " 7   key                1134 non-null   int64  \n",
      " 8   loudness           1134 non-null   float64\n",
      " 9   speechiness        1134 non-null   float64\n",
      " 10  acousticness       1134 non-null   float64\n",
      " 11  instrumentalness   1134 non-null   float64\n",
      " 12  liveness           1134 non-null   float64\n",
      " 13  valence            1134 non-null   float64\n",
      " 14  tempo              1134 non-null   float64\n",
      "dtypes: float64(9), int64(3), object(3)\n",
      "memory usage: 133.0+ KB\n"
     ]
    }
   ],
   "source": [
    "w2v_test = pd.read_csv(\"../data/W2V/w2v_ids_test.csv.zip\")\n",
    "\n",
    "w2v_test.describe()\n",
    "w2v_test.info()"
   ]
  }
 ],
 "metadata": {
  "kernelspec": {
   "display_name": "base",
   "language": "python",
   "name": "python3"
  },
  "language_info": {
   "codemirror_mode": {
    "name": "ipython",
    "version": 3
   },
   "file_extension": ".py",
   "mimetype": "text/x-python",
   "name": "python",
   "nbconvert_exporter": "python",
   "pygments_lexer": "ipython3",
   "version": "3.11.5"
  }
 },
 "nbformat": 4,
 "nbformat_minor": 2
}
