{
 "cells": [
  {
   "cell_type": "code",
   "execution_count": 1,
   "metadata": {},
   "outputs": [],
   "source": [
    "import os\n",
    "import pandas as pd\n",
    "from transformers import AutoTokenizer\n",
    "from src.MusicGenreDataset import MusicGenreDatasetWithPreprocess"
   ]
  },
  {
   "cell_type": "markdown",
   "metadata": {},
   "source": [
    "# BERT Preprocessing\n"
   ]
  },
  {
   "cell_type": "code",
   "execution_count": 2,
   "metadata": {},
   "outputs": [],
   "source": [
    "model_name = \"distilbert-base-uncased\"\n",
    "bertTokenizer = AutoTokenizer.from_pretrained(model_name)"
   ]
  },
  {
   "cell_type": "code",
   "execution_count": 3,
   "metadata": {},
   "outputs": [
    {
     "name": "stdout",
     "output_type": "stream",
     "text": [
      "Store processed activated. \n",
      "Preprocessing data for unclean input...\n",
      "Preprocessing and tokenizing input data...\n",
      "Convert tokenized to IDs...\n",
      "Preprocessed end. \n",
      "Storing processed data to ids_24-02-24_010006.csv.zip\n",
      "CPU times: user 40.8 s, sys: 80.3 ms, total: 40.9 s\n",
      "Wall time: 40.9 s\n"
     ]
    }
   ],
   "source": [
    "%%time\n",
    "train_dataset = MusicGenreDatasetWithPreprocess(path_data=\"./data/train_unclean.csv.zip\", emb_model=bertTokenizer, emb_type=\"bert\", max_seq_len=512, input_type=\"unclean\", store_processed=True, output_dir=\"./data/processed\")"
   ]
  },
  {
   "cell_type": "code",
   "execution_count": 4,
   "metadata": {},
   "outputs": [
    {
     "name": "stdout",
     "output_type": "stream",
     "text": [
      "Store processed activated. \n",
      "Preprocessing data for unclean input...\n",
      "Preprocessing and tokenizing input data...\n",
      "Convert tokenized to IDs...\n",
      "Preprocessed end. \n",
      "Storing processed data to ids_24-02-24_010014.csv.zip\n",
      "CPU times: user 7.94 s, sys: 30 ms, total: 7.97 s\n",
      "Wall time: 7.97 s\n"
     ]
    }
   ],
   "source": [
    "%%time\n",
    "val_dataset = MusicGenreDatasetWithPreprocess(path_data=\"./data/val_unclean.csv.zip\", emb_model=bertTokenizer, emb_type=\"bert\", max_seq_len=512, input_type=\"unclean\", store_processed=True, output_dir=\"./data/processed\")"
   ]
  },
  {
   "cell_type": "code",
   "execution_count": 5,
   "metadata": {},
   "outputs": [
    {
     "name": "stdout",
     "output_type": "stream",
     "text": [
      "Store processed activated. \n",
      "Preprocessing data for unclean input...\n",
      "Preprocessing and tokenizing input data...\n",
      "Convert tokenized to IDs...\n",
      "Preprocessed end. \n",
      "Storing processed data to ids_24-02-24_010023.csv.zip\n",
      "CPU times: user 8.85 s, sys: 10 ms, total: 8.86 s\n",
      "Wall time: 8.86 s\n"
     ]
    }
   ],
   "source": [
    "%%time\n",
    "test_dataset = MusicGenreDatasetWithPreprocess(path_data=\"./data/test_unclean.csv.zip\", emb_model=bertTokenizer, emb_type=\"bert\", max_seq_len=512, input_type=\"unclean\", store_processed=True, output_dir=\"./data/processed\")"
   ]
  },
  {
   "cell_type": "code",
   "execution_count": null,
   "metadata": {},
   "outputs": [],
   "source": []
  }
 ],
 "metadata": {
  "kernelspec": {
   "display_name": "base",
   "language": "python",
   "name": "python3"
  },
  "language_info": {
   "codemirror_mode": {
    "name": "ipython",
    "version": 3
   },
   "file_extension": ".py",
   "mimetype": "text/x-python",
   "name": "python",
   "nbconvert_exporter": "python",
   "pygments_lexer": "ipython3",
   "version": "3.11.7"
  }
 },
 "nbformat": 4,
 "nbformat_minor": 2
}
