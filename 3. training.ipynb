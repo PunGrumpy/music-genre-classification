{
 "cells": [
  {
   "cell_type": "code",
   "execution_count": 1,
   "metadata": {},
   "outputs": [],
   "source": [
    "from src.ModelTrainer import ModelTrainer\n",
    "from src.model.SettingModel import BERT_SETTINGS"
   ]
  },
  {
   "cell_type": "markdown",
   "metadata": {},
   "source": [
    "# BERT Training\n"
   ]
  },
  {
   "cell_type": "code",
   "execution_count": 2,
   "metadata": {},
   "outputs": [
    {
     "data": {
      "text/plain": [
       "{'run_name': 'BERT Model',\n",
       " 'output_dir': './output/BERT',\n",
       " 'load_checkpoint': '',\n",
       " 'mode': 'train',\n",
       " 'embedding_settings': {'embedding_type': 'bert',\n",
       "  'embedding_model': 'distilbert-base-uncased'},\n",
       " 'data_settings': {'train_data': './data/BERT/bert_ids_train.csv.zip',\n",
       "  'val_data': './data/BERT/bert_ids_val.csv.zip',\n",
       "  'test_data': './data/BERT/bert_ids_test.csv.zip',\n",
       "  'max_seq_len': 500,\n",
       "  'input_type': 'index',\n",
       "  'store_processed': False,\n",
       "  'batch_size': 96},\n",
       " 'model_settings': {'lstm_layers': 2,\n",
       "  'hidden_dim': 128,\n",
       "  'target_size': 5,\n",
       "  'dropout_prob': 0.2,\n",
       "  'train_bert': False},\n",
       " 'train_settings': {'epochs': 1, 'learning_rate': 5e-06, 'grad_clip': 5}}"
      ]
     },
     "execution_count": 2,
     "metadata": {},
     "output_type": "execute_result"
    }
   ],
   "source": [
    "BERT_SETTINGS"
   ]
  },
  {
   "cell_type": "code",
   "execution_count": 3,
   "metadata": {},
   "outputs": [
    {
     "name": "stdout",
     "output_type": "stream",
     "text": [
      "Embedding model distilbert-base-uncased is loading...\n",
      "Importing data...\n",
      "Creating dataloaders...\n",
      "Creating model...\n"
     ]
    }
   ],
   "source": [
    "model_trainer = ModelTrainer(BERT_SETTINGS)"
   ]
  },
  {
   "cell_type": "code",
   "execution_count": 4,
   "metadata": {},
   "outputs": [
    {
     "name": "stderr",
     "output_type": "stream",
     "text": [
      "We strongly recommend passing in an `attention_mask` since your input_ids may be padded. See https://huggingface.co/docs/transformers/troubleshooting#incorrect-output-when-padding-tokens-arent-masked.\n"
     ]
    },
    {
     "name": "stdout",
     "output_type": "stream",
     "text": [
      "🏃‍♂️ Training... Epoch: 1/1... Step: 1... Loss: 1.604913... Accuracy: 0.187500... Time: 1.246170\n",
      "🏋️ Evaluation... Epoch: 1/1... Training Loss: 1.531717... Validation Loss: 1.533817... Training Accuracy: 0.193638... Validation Accuracy: 0.241667... Time: 70.564336\n",
      "Epoch time: 71.570994\n"
     ]
    }
   ],
   "source": [
    "model_trainer.train()"
   ]
  },
  {
   "cell_type": "code",
   "execution_count": null,
   "metadata": {},
   "outputs": [],
   "source": []
  }
 ],
 "metadata": {
  "kernelspec": {
   "display_name": "base",
   "language": "python",
   "name": "python3"
  },
  "language_info": {
   "codemirror_mode": {
    "name": "ipython",
    "version": 3
   },
   "file_extension": ".py",
   "mimetype": "text/x-python",
   "name": "python",
   "nbconvert_exporter": "python",
   "pygments_lexer": "ipython3",
   "version": "3.11.5"
  }
 },
 "nbformat": 4,
 "nbformat_minor": 2
}
